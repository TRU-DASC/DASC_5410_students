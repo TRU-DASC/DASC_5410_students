{
 "cells": [
  {
   "cell_type": "markdown",
   "metadata": {},
   "source": [
    "# Worksheet 2: Data modelling with MongoDB"
   ]
  },
  {
   "cell_type": "markdown",
   "metadata": {},
   "source": [
    "### Exercise 1: Identify documents and collections\n",
    "\n",
    "#### Case Study: Online Bookstore\n",
    "\n",
    "You are tasked with designing a MongoDB database for an online bookstore. The bookstore sells books, and each book can have multiple authors. Customers can purchase books, and each purchase can contain multiple books. Additionally, customers can leave reviews for books they have purchased.\n",
    "\n",
    "#### Objectives:\n",
    "1. Design the data model for the online bookstore.\n",
    "2. Define the relationships between different entities.\n",
    "3. Create sample documents for each collection.\n"
   ]
  },
  {
   "cell_type": "markdown",
   "metadata": {},
   "source": [
    "\n",
    "#### Step-by-Step Instructions:\n",
    "\n",
    "1. **Identify Entities and Relationships:**\n",
    "    - **Books**: Each book has a title, ISBN, publication date, and a list of authors.\n",
    "    - **Authors**: Each author has a name and a list of books they have written.\n",
    "    - **Customers**: Each customer has a name, email, and a list of purchases.\n",
    "    - **Purchases**: Each purchase has a date, customer reference, and a list of books purchased.\n",
    "    - **Reviews**: Each review has a rating, comment, customer reference, and book reference.\n"
   ]
  },
  {
   "cell_type": "markdown",
   "metadata": {},
   "source": [
    "\n",
    "2. **Design the Data Model:**\n",
    "  \n",
    "Create a template for each of the collection. This should include the key-value pairs in JSON format, specify the data type, and specify possible relationships between collections.\n",
    "\n",
    "Recall that MongoDB supports date type such as: `ObjectId`, `String`, `Integer`, `ISODATE`, etc...\n",
    "\n",
    "For example\n",
    "\n",
    "**Books Collection**:\n",
    "\n",
    "```json\n",
    "        {\n",
    "            \"_id\": ObjectId,\n",
    "            \"title\": String,\n",
    "            \"ISBN\": String,\n",
    "            \"publication_date\": Date,\n",
    "            \"authors\": [ObjectId]  // References to Authors\n",
    "        }\n",
    "        ```        \n"
   ]
  },
  {
   "cell_type": "markdown",
   "metadata": {},
   "source": [
    "- **Authors Collection**:\n",
    "> ENTER YOUR ANSWER HERE\n"
   ]
  },
  {
   "cell_type": "markdown",
   "metadata": {},
   "source": [
    "- **Customers Collection**:\n",
    "> ENTER YOUR ANSWER HERE"
   ]
  },
  {
   "cell_type": "markdown",
   "metadata": {},
   "source": [
    "- **Purchases Collection**:\n",
    "> ENTER YOUR ANSWER HERE"
   ]
  },
  {
   "cell_type": "markdown",
   "metadata": {},
   "source": [
    "- **Reviews Collection**:\n",
    "> ENTER YOUR ANSWER HERE"
   ]
  },
  {
   "cell_type": "markdown",
   "metadata": {},
   "source": [
    "\n",
    "3. **Create Sample Documents:**\n",
    "\n",
    "Now, create a sample document for each of the collection. You can fill in random values of your choice. The purpose of this exercise is to help you envision how the data are going to look like\n",
    "\n",
    "For example\n",
    "**Books Collection**:\n",
    "```json\n",
    "        {\n",
    "            \"_id\": ObjectId(\"60c72b2f9b1d8b3a4c8e4d1a\"),\n",
    "            \"title\": \"MongoDB Basics\",\n",
    "            \"ISBN\": \"1234567890\",\n",
    "            \"publication_date\": ISODate(\"2021-01-01T00:00:00Z\"),\n",
    "            \"authors\": [ObjectId(\"60c72b2f9b1d8b3a4c8e4d1b\")]\n",
    "        }\n",
    "```\n"
   ]
  },
  {
   "cell_type": "markdown",
   "metadata": {},
   "source": [
    "- **Authors Collection**:\n",
    "> ENTER YOUR ANSWER HERE\n"
   ]
  },
  {
   "cell_type": "markdown",
   "metadata": {},
   "source": [
    "- **Customers Collection**:\n",
    "> ENTER YOUR ANSWER HERE"
   ]
  },
  {
   "cell_type": "markdown",
   "metadata": {},
   "source": [
    "- **Purchases Collection**:\n",
    "> ENTER YOUR ANSWER HERE"
   ]
  },
  {
   "cell_type": "markdown",
   "metadata": {},
   "source": [
    "- **Reviews Collection**:\n",
    "> ENTER YOUR ANSWER HERE"
   ]
  },
  {
   "cell_type": "markdown",
   "metadata": {},
   "source": [
    "## Exercise 2: Identify database workload\n",
    "\n",
    "In this exercise, you will extend your data modeling skills by identifying entities and attributes, quantifying entities, and analyzing read and write operations for different types of application users. \n"
   ]
  },
  {
   "cell_type": "markdown",
   "metadata": {},
   "source": [
    "### Quantifying Reads and Writes in the Online Bookstore Example\n",
    "\n",
    "To quantify the read and write operations in the online bookstore example, we need to consider the different types of operations performed by various users (customers and admins) and the frequency of these operations.\n",
    "\n",
    "Fill out the table below with possible operations by customers and admins and specify the estimated frequency, as well as whether it's a read or write operations. You can make your own assumptions.\n",
    "\n",
    "I have added one operation as an example.\n"
   ]
  },
  {
   "cell_type": "markdown",
   "metadata": {},
   "source": [
    "\n",
    "#### Table: Quantifying Reads and Writes\n",
    "\n",
    "| Operation                     | User Type | Read/Write | Frequency (per day) | Description                                                                 |\n",
    "|-------------------------------|-----------|------------|----------------------|-----------------------------------------------------------------------------|\n",
    "| Browse Books                  | Customer  | Read       | 100,000              | Customers browsing the list of available books.                             |\n",
    "|                               |           |            |                      |                                                                             |\n",
    "|                               |           |            |                      |                                                                             |\n",
    "|                               |           |            |                      |                                                                             |\n",
    "|                               |           |            |                      |                                                                             |\n",
    "|                               |           |            |                      |                                                                             |\n",
    "|                               |           |            |                      |                                                                             |\n"
   ]
  },
  {
   "cell_type": "markdown",
   "metadata": {},
   "source": [
    "## Exercise 3: Identifying and Modeling Relationships in MongoDB\n",
    "\n",
    "#### Case Study: Online Bookstore (Continued)\n",
    "\n",
    "In this exercise, you will identify one-to-one, one-to-many, and many-to-many relationships between entities in an online bookstore. You will analyze these entities to determine whether to embed or reference them using common guidelines. Finally, you will model these relationships using both embedded and referenced approaches.\n",
    "\n",
    "#### Objectives:\n",
    "1. Identify one-to-one, one-to-many, and many-to-many relationships between entities.\n",
    "2. Analyze entities to determine whether to embed or reference using common guidelines.\n",
    "3. Model embedded and referenced one-to-one, one-to-many, and many-to-many relationships.\n",
    "\n",
    "#### Step-by-Step Instructions:\n",
    "\n",
    "For each of the following pair of entities, identify:\n",
    "- What type of relationships is there\n",
    "- Determine whether to use embedding or referencing\n",
    "- Give an example in JSON format\n"
   ]
  },
  {
   "cell_type": "markdown",
   "metadata": {},
   "source": [
    "#### Example:\n",
    "\n",
    "**Entities: Books and Reviews**\n",
    "\n",
    "1. **Type of Relationship:** One-to-Many (e.g., one book has many reviews)\n",
    "2. **Embed or Reference:** Embed\n",
    "3. **Explanation:** Reviews are typically small in size and are frequently accessed together with the book details. Embedding reviews within the book document ensures that all related data can be retrieved in a single read operation, improving read performance.\n"
   ]
  },
  {
   "cell_type": "markdown",
   "metadata": {},
   "source": [
    "\n",
    "##### JSON Example:\n",
    "\n"
   ]
  },
  {
   "cell_type": "code",
   "execution_count": null,
   "metadata": {},
   "outputs": [],
   "source": [
    "{\n",
    "    \"_id\": ObjectId(\"bookId1\"),\n",
    "    \"title\": \"MongoDB Basics\",\n",
    "    \"ISBN\": \"1234567890\",\n",
    "    \"reviews\": [\n",
    "        {\n",
    "            \"rating\": 5,\n",
    "            \"comment\": \"Great book on MongoDB!\",\n",
    "            \"customer_id\": ObjectId(\"customerId1\")\n",
    "        },\n",
    "        {\n",
    "            \"rating\": 4,\n",
    "            \"comment\": \"Very informative.\",\n",
    "            \"customer_id\": ObjectId(\"customerId2\")\n",
    "        }\n",
    "    ]\n",
    "}"
   ]
  },
  {
   "cell_type": "markdown",
   "metadata": {},
   "source": [
    "\n",
    "**YOUR TURN**\n",
    "\n",
    "For each of the following pairs of entities, identify the type of relationship, decide whether to use embedding or referencing, explain why, and provide a JSON example.\n",
    "\n",
    "1. **Entities: Books and Authors**\n",
    "    - **Type of Relationship:** \n",
    "    - **Embed or Reference:** \n",
    "    - **Explanation:** \n",
    "    - **JSON Example:**\n"
   ]
  },
  {
   "cell_type": "markdown",
   "metadata": {},
   "source": [
    "> YOUR ANSWER HERE"
   ]
  },
  {
   "cell_type": "markdown",
   "metadata": {},
   "source": [
    "\n",
    "1. **Entities: Books and Authors**\n",
    "    - **Type of Relationship:** Many-to-Many\n",
    "    - **Embed or Reference:** Embed for books, and reference for authors\n",
    "    - **Explanation:** Each book can have multiple authors, but each author can also write multiple books. \n",
    "  \n",
    "    - For the books collection, since the number of authors of each book is relatively small, we can directly embed authors information in the books collection. This will help users to retrieve information on authors while browsing a book faster. \n",
    "    - For the authors collection, since each authors can have a large number of books, embedding books information in authors collection would likely result in unbounded documents (it's too long), and slow down the querry time. Hence, it's better to do referencing to books ID in the authors collection\n",
    "    - We will also accept the option to use referencing in authors collection here if you assume each authors only publish a small limited number of books\n",
    "  \n",
    "    - **JSON Example:**\n"
   ]
  },
  {
   "cell_type": "markdown",
   "metadata": {},
   "source": [
    "Books collection (embedded authors)\n",
    "```json\n",
    "{\n",
    "    \"book_id\": \"book_id_3\",\n",
    "    \"title\": \"Good Omens\",\n",
    "    \"ISBN\": \"978-0-06-085398-3\",\n",
    "    \"publication_date\": \"1990-05-01\",\n",
    "    \"authors\": [\n",
    "        {\n",
    "            \"author_id\": \"3\",\n",
    "            \"name\": \"Neil Gaiman\"\n",
    "        },\n",
    "        {\n",
    "            \"author_id\": \"4\",\n",
    "            \"name\": \"Terry Pratchett\"\n",
    "        }\n",
    "    ]\n",
    "}\n",
    "```"
   ]
  },
  {
   "cell_type": "markdown",
   "metadata": {},
   "source": [
    "Authors collection (referencing books)\n",
    "\n",
    "```json\n",
    "{\n",
    "    \"author_id\": \"3\",\n",
    "    \"name\": \"Neil Gaiman\",\n",
    "    \"books\": [\n",
    "        \"book_id_3\",\n",
    "        \"book_id_6\"\n",
    "    ]\n",
    "}\n",
    "```"
   ]
  },
  {
   "cell_type": "markdown",
   "metadata": {},
   "source": [
    "\n",
    "2. **Entities: Customers and Purchases**\n",
    "    - **Type of Relationship:**\n",
    "    - **Embed or Reference:** \n",
    "    - **Explanation:** \n",
    "    - **JSON Example:**\n"
   ]
  },
  {
   "cell_type": "markdown",
   "metadata": {},
   "source": [
    "> YOUR ANSWER HERE"
   ]
  },
  {
   "cell_type": "markdown",
   "metadata": {},
   "source": [
    "\n",
    "2. **Entities: Customers and Purchases**\n",
    "    - **Type of Relationship:** One-to-many\n",
    "    - **Embed or Reference:** We would reference purchase ID in the customers collection. The reason is that each customer can have a large number of purchases, embedding it would result in unbounded documents, extremly long json file and slow down querry time. So referencing would be a better choice here. \n",
    "    - **Explanation:** Each customer can have multiple purchases, but each purchase order belongs to only one customer\n",
    "    - **JSON Example:**\n",
    "\n",
    "```json\n",
    "{\n",
    "    \"customer_id\": \"customer_id_2\",\n",
    "    \"name\": \"Jane Smith\",\n",
    "    \"email\": \"jane.smith@example.com\",\n",
    "    \"purchases\": [\n",
    "        \"purchase_id_1\",\n",
    "        \"purchase_id_2\",\n",
    "        ...,\n",
    "        \"purchase_id_100\"\n",
    "    ]\n",
    "}\n",
    "```\n",
    "\n"
   ]
  },
  {
   "cell_type": "markdown",
   "metadata": {},
   "source": [
    "\n",
    "3. **Entities: Books and Purchases**\n",
    "    - **Type of Relationship:** \n",
    "    - **Embed or Reference:** \n",
    "    - **Explanation:** \n",
    "    - **JSON Example:**\n"
   ]
  },
  {
   "cell_type": "markdown",
   "metadata": {},
   "source": [
    "> YOUR ANSWER HERE"
   ]
  },
  {
   "cell_type": "markdown",
   "metadata": {},
   "source": [
    "\n",
    "3. **Entities: Books and Purchases**\n",
    "    - **Type of Relationship:**: Many-to-many\n",
    "    - **Embed or Reference:** \n",
    "    - **Explanation:** Each book can be purchased multiple times, each purchase order can have multiple books\n",
    "    - For the books collection, we can reference the purchased id since we can have hundreds to millions of purchase orders for a single popular book (e.g. Harry Potter)\n",
    "    - For the purchases collection, we can use either embedding or referencing. If we assume that most purchase order will contain only a small number of books, then we can use embedding. This is most likely to be the case in real-life. If we assume that most purchases order will contain a large number of books (bulk order of 100s of books), then we can use referencing. \n",
    "    - **JSON Example:**\n",
    "**books collection** (referencing purchase ids)\n",
    "```json\n",
    "{\n",
    "    \"book_id\": \"book_id_1\",\n",
    "    \"title\": \"Harry Potter and the Sorcerer's Stone\",\n",
    "    \"ISBN\": \"978-0-590-35340-3\",\n",
    "    \"publication_date\": \"1997-06-26\",\n",
    "    \"purchases\": [\n",
    "        \"purchase_id_1\",\n",
    "        \"purchase_id_2\",\n",
    "        ...,\n",
    "        \"purchase_id_100\"\n",
    "    ]\n",
    "}\n",
    "```\n",
    "\n",
    "**purchase collection** (embed books info)\n",
    "```json\n",
    "{\n",
    "    \"purchase_id\": \"purchase_id_1\",\n",
    "    \"date\": \"2023-10-01\",\n",
    "    \"customer_id\": \"customer_id_1\",\n",
    "    \"books\": [\n",
    "        {\n",
    "            \"book_id\": \"book_id_1\",\n",
    "            \"title\": \"Harry Potter and the Sorcerer's Stone\"\n",
    "        },\n",
    "        {\n",
    "            \"book_id\": \"book_id_2\",\n",
    "            \"title\": \"The Hobbit\"\n",
    "        }\n",
    "    ]\n",
    "}\n",
    "```"
   ]
  },
  {
   "cell_type": "markdown",
   "metadata": {},
   "source": [
    "\n",
    "4. **Entities: Customers and Reviews**\n",
    "    - **Type of Relationship:** \n",
    "    - **Embed or Reference:** \n",
    "    - **Explanation:** \n",
    "    - **JSON Example:**\n"
   ]
  },
  {
   "cell_type": "markdown",
   "metadata": {},
   "source": [
    "> YOUR ANSWER HERE"
   ]
  },
  {
   "cell_type": "markdown",
   "metadata": {},
   "source": [
    "\n",
    "4. **Entities: Customers and Reviews**\n",
    "    - **Type of Relationship:** One-to-many\n",
    "    - **Embed or Reference:** Reference reviews in customer collection\n",
    "    - **Explanation:** Each customer can write multiples reviews, each review belongs to a single customer. We should reference the reviews id in the customer collection because the number of reviews could get quite large, hence referencing would be suitable here. \n",
    "    - **JSON Example:**\n",
    "\n",
    "```json\n",
    "{\n",
    "    \"customer_id\": \"customer_id_1\",\n",
    "    \"name\": \"John Doe\",\n",
    "    \"email\": \"john.doe@example.com\",\n",
    "    \"reviews\": [\n",
    "        \"review_id_1\",\n",
    "        \"review_id_2\",\n",
    "        \"review_id_3\",\n",
    "        \"review_id_4\",\n",
    "        \"review_id_5\",\n",
    "        \"review_id_6\",\n",
    "        \"review_id_7\",\n",
    "        \"review_id_8\",\n",
    "        \"review_id_9\",\n",
    "        \"review_id_10\"\n",
    "    ]\n",
    "}\n",
    "```\n"
   ]
  },
  {
   "cell_type": "markdown",
   "metadata": {
    "vscode": {
     "languageId": "json"
    }
   },
   "source": [
    "## Exercise 4: Delta Insertion in MongoDB\n",
    "\n",
    "#### Case Study: Walmart Prices\n"
   ]
  },
  {
   "cell_type": "markdown",
   "metadata": {},
   "source": [
    "To handle the case where a new product is inserted into Collection A (historical prices), and if the product doesn't exist in Collection B (latest prices), we want to directly insert it into Collection B as well. Additionally, we'll ensure that the attributes (fields) of Collection A and Collection B are the same.\n",
    "\n",
    "Changes to Implement:\n",
    "Ensure that Collection A and Collection B have the same attributes.\n",
    "If a product is new (not found in Collection B), insert it into both Collection A and Collection B.\n",
    "Modify the schema to make the attributes consistent across both collections.\n",
    "\n",
    "**Step 1**: Define the Common Schema for Collection A and Collection B\n",
    "\n",
    "Both Collection A and Collection B will have the following fields:\n",
    "\n",
    "- `productID`: Unique ID for each product.\n",
    "- `price`: The current price of the product.\n",
    "- `changeDate`: The date of the price change.\n",
    "- `lastUpdated`: The date when the product’s price was last updated.\n",
    "\n",
    "Example Document Structure:\n",
    "```json\n",
    "{ \n",
    "    \"productID\": 101,\n",
    "    \"price\": 12.99,\n",
    "    \"changeDate\": \"2024-01-15\",\n",
    "    \"lastUpdated\": \"2024-01-15\"\n",
    "}\n",
    "```\n",
    "**Step 2**: Python Code to Insert New Products into Both Collections\n",
    "\n"
   ]
  },
  {
   "cell_type": "code",
   "execution_count": 1,
   "metadata": {},
   "outputs": [],
   "source": [
    "# pip install pymongo"
   ]
  },
  {
   "cell_type": "code",
   "execution_count": 3,
   "metadata": {},
   "outputs": [],
   "source": [
    "from pymongo import MongoClient # import mongo client to connect\n",
    "import json # import json to load credentials\n",
    "from bson.objectid import ObjectId\n",
    "import urllib.parse\n",
    "\n",
    "# load credentials from json file\n",
    "with open('credentials_mongodb.json') as f:\n",
    "    login = json.load(f)\n",
    "\n",
    "# assign credentials to variables\n",
    "username = login['username']\n",
    "password = urllib.parse.quote(login['password'])\n",
    "host = login['host']\n",
    "url = \"mongodb+srv://{}:{}@{}/?retryWrites=true&w=majority\".format(username, password, host)"
   ]
  },
  {
   "cell_type": "code",
   "execution_count": 4,
   "metadata": {},
   "outputs": [],
   "source": [
    "# connect to the database\n",
    "client = MongoClient(url)"
   ]
  },
  {
   "cell_type": "code",
   "execution_count": 5,
   "metadata": {},
   "outputs": [],
   "source": [
    "db = client['walmart_prices']  # Database name"
   ]
  },
  {
   "cell_type": "code",
   "execution_count": 59,
   "metadata": {},
   "outputs": [],
   "source": [
    "# collection_a.delete_many({})\n",
    "# collection_b.delete_many({})\n",
    "# collection_c.delete_many({})\n"
   ]
  },
  {
   "cell_type": "code",
   "execution_count": 6,
   "metadata": {},
   "outputs": [],
   "source": [
    "collection_a = db[\"historical_prices\"]\n",
    "collection_b = db[\"latest_prices\"]\n",
    "collection_c = db[\"logs\"]"
   ]
  },
  {
   "cell_type": "code",
   "execution_count": 9,
   "metadata": {},
   "outputs": [
    {
     "data": {
      "text/plain": [
       "InsertManyResult([ObjectId('67171d84856307621de5be44'), ObjectId('67171d84856307621de5be45'), ObjectId('67171d84856307621de5be46'), ObjectId('67171d84856307621de5be47'), ObjectId('67171d84856307621de5be48')], acknowledged=True)"
      ]
     },
     "execution_count": 9,
     "metadata": {},
     "output_type": "execute_result"
    }
   ],
   "source": [
    "historical_data = [\n",
    "    {\n",
    "        \"_id\": ObjectId(),\n",
    "        \"productID\": 101,\n",
    "        \"Price\": 10.99,\n",
    "        \"changeDate\": \"2024-01-15\"\n",
    "    },\n",
    "    {\n",
    "        \"_id\": ObjectId(),\n",
    "        \"productID\": 102,\n",
    "        \"Price\": 12.49,\n",
    "        \"changeDate\": \"2024-01-20\"\n",
    "    },\n",
    "    {\n",
    "        \"_id\": ObjectId(),\n",
    "        \"productID\": 103,\n",
    "        \"Price\": 8.79,\n",
    "        \"changeDate\": \"2024-02-05\"\n",
    "    },\n",
    "    {\n",
    "        \"_id\": ObjectId(),\n",
    "        \"productID\": 104,\n",
    "        \"Price\": 15.99,\n",
    "        \"changeDate\": \"2024-03-10\"\n",
    "    },\n",
    "    {\n",
    "        \"_id\": ObjectId(),\n",
    "        \"productID\": 105,\n",
    "        \"Price\": 7.49,\n",
    "        \"changeDate\": \"2024-04-18\"\n",
    "    }\n",
    "]\n",
    "\n",
    "# Dummy data for 5 records in latest_prices collection (updated prices)\n",
    "latest_data = [\n",
    "    {\n",
    "        \"_id\": ObjectId(),\n",
    "        \"productID\": 101,\n",
    "        \"Price\": 10.99,\n",
    "        \"changeDate\": \"2024-01-15\"\n",
    "    },\n",
    "    {\n",
    "        \"_id\": ObjectId(),\n",
    "        \"productID\": 102,\n",
    "        \"Price\": 12.49,\n",
    "        \"changeDate\": \"2024-01-20\"\n",
    "    },\n",
    "    {\n",
    "        \"_id\": ObjectId(),\n",
    "        \"productID\": 103,\n",
    "        \"Price\": 8.79,\n",
    "        \"changeDate\": \"2024-02-05\"\n",
    "    },\n",
    "    {\n",
    "        \"_id\": ObjectId(),\n",
    "        \"productID\": 104,\n",
    "        \"Price\": 15.99,\n",
    "        \"changeDate\": \"2024-03-10\"\n",
    "    },\n",
    "    {\n",
    "        \"_id\": ObjectId(),\n",
    "        \"productID\": 105,\n",
    "        \"Price\": 7.49,\n",
    "        \"changeDate\": \"2024-04-18\"\n",
    "    }\n",
    "]\n",
    "\n",
    "log_data = [\n",
    "    {\n",
    "        \"_id\": ObjectId(),\n",
    "        \"operationID\": 1,\n",
    "        \"fromTable\": \"historical_prices\",\n",
    "        \"toTable\": \"latest_prices\",\n",
    "        \"Execution_Date\": \"2024-01-20\",\n",
    "        \"Today_Date\": \"2024-01-20\"\n",
    "    }]\n",
    "collection_a.insert_many(historical_data)\n",
    "collection_b.insert_many(historical_data)\n",
    "collection_c.insert_many(log_data)\n",
    "\n",
    "# Insert the data into collections\n",
    "# collection_a.insert_many([{\n",
    "    #     \"_id\": ObjectId(),\n",
    "    #     \"productID\": 105,\n",
    "    #     \"Price\": 8.00,\n",
    "    #     \"changeDate\": \"2024-04-20\"\n",
    "    # }])"
   ]
  },
  {
   "cell_type": "code",
   "execution_count": 10,
   "metadata": {},
   "outputs": [
    {
     "name": "stdout",
     "output_type": "stream",
     "text": [
      "[{'_id': ObjectId('67171d84856307621de5be44'), 'productID': 101, 'Price': 10.99, 'changeDate': '2024-01-15'}, {'_id': ObjectId('67171d84856307621de5be45'), 'productID': 102, 'Price': 12.49, 'changeDate': '2024-01-20'}, {'_id': ObjectId('67171d84856307621de5be46'), 'productID': 103, 'Price': 8.79, 'changeDate': '2024-02-05'}, {'_id': ObjectId('67171d84856307621de5be47'), 'productID': 104, 'Price': 15.99, 'changeDate': '2024-03-10'}, {'_id': ObjectId('67171d84856307621de5be48'), 'productID': 105, 'Price': 7.49, 'changeDate': '2024-04-18'}]\n",
      "[{'_id': ObjectId('67171d84856307621de5be44'), 'productID': 101, 'Price': 10.99, 'changeDate': '2024-01-15'}, {'_id': ObjectId('67171d84856307621de5be45'), 'productID': 102, 'Price': 12.49, 'changeDate': '2024-01-20'}, {'_id': ObjectId('67171d84856307621de5be46'), 'productID': 103, 'Price': 8.79, 'changeDate': '2024-02-05'}, {'_id': ObjectId('67171d84856307621de5be47'), 'productID': 104, 'Price': 15.99, 'changeDate': '2024-03-10'}, {'_id': ObjectId('67171d84856307621de5be48'), 'productID': 105, 'Price': 7.49, 'changeDate': '2024-04-18'}]\n",
      "[{'_id': ObjectId('67171d67856307621de5be43'), 'operationID': 1, 'fromTable': 'historical_prices', 'toTable': 'latest_prices', 'Execution_Date': '2024-01-20', 'Today_Date': '2024-01-20'}]\n"
     ]
    }
   ],
   "source": [
    "print(list(collection_a.find()))\n",
    "print(list(collection_b.find()))\n",
    "print(list(collection_c.find()))\n"
   ]
  },
  {
   "cell_type": "code",
   "execution_count": 55,
   "metadata": {},
   "outputs": [
    {
     "name": "stdout",
     "output_type": "stream",
     "text": [
      "Processing operationID 1 from historical_prices to latest_prices...\n",
      "{'_id': ObjectId('6716bf3dd63c865d55b2e58d'), 'productID': 101, 'Price': 10.99, 'changeDate': '2024-01-15'}\n",
      "{'_id': ObjectId('6716bf3dd63c865d55b2e58e'), 'productID': 102, 'Price': 12.49, 'changeDate': '2024-01-20'}\n",
      "{'_id': ObjectId('6716bf3dd63c865d55b2e58f'), 'productID': 103, 'Price': 8.79, 'changeDate': '2024-02-05'}\n",
      "{'_id': ObjectId('6716bf3dd63c865d55b2e590'), 'productID': 104, 'Price': 15.99, 'changeDate': '2024-03-10'}\n",
      "{'_id': ObjectId('6716bf3dd63c865d55b2e591'), 'productID': 105, 'Price': 7.49, 'changeDate': '2024-04-18'}\n",
      "{'_id': ObjectId('6716bf3dd63c865d55b2e591'), 'productID': 105, 'Price': 7.49, 'changeDate': '2024-04-18'}\n",
      "Updated productID 105 in operationID 1 with new price 8.0.\n",
      "OperationID 1 complete, logs updated.\n"
     ]
    }
   ],
   "source": [
    "# Define the pipeline function\n",
    "def update_prices_for_all_logs():\n",
    "    # Get current date for the log\n",
    "    current_date = datetime.now().strftime(\"%Y-%m-%d\")\n",
    "    collection_c = db['logs']\n",
    "    # Fetch all log entries from collection_c\n",
    "    all_log_entries = list(collection_c.find())\n",
    "    \n",
    "    # Loop through each log entry and execute the pipeline\n",
    "    for log_entry in all_log_entries:\n",
    "        operation_id = log_entry['operationID']\n",
    "        from_table_name = log_entry['fromTable']\n",
    "        to_table_name = log_entry['toTable']\n",
    "        \n",
    "        print(f\"Processing operationID {operation_id} from {from_table_name} to {to_table_name}...\")\n",
    "        \n",
    "        # Fetch the collections dynamically using the names from the logs\n",
    "        from_collection = db[from_table_name]  # Source collection, e.g., historical_prices\n",
    "        to_collection = db[to_table_name]      # Destination collection, e.g., latest_prices\n",
    "\n",
    "        # Fetch data from the 'fromTable'\n",
    "        historical_data = list(from_collection.find())\n",
    "        \n",
    "        # Loop through each record in 'fromTable'\n",
    "        for record in historical_data:\n",
    "            product_id = record['productID']\n",
    "            historical_price = record['Price']\n",
    "            historical_change_date = record['changeDate']\n",
    "\n",
    "            # Check if the productID exists in the 'toTable'\n",
    "            latest_record = to_collection.find_one({\"productID\": product_id})\n",
    "\n",
    "            if latest_record:\n",
    "                # If the productID exists, check the changeDate\n",
    "                latest_change_date = latest_record['changeDate']\n",
    "\n",
    "                if historical_change_date > latest_change_date:\n",
    "                    # Update the record if historical changeDate is newer\n",
    "                    to_collection.update_one(\n",
    "                        {\"productID\": product_id},\n",
    "                        {\"$set\": {\"Price\": historical_price, \"changeDate\": historical_change_date}}\n",
    "                    )\n",
    "                    print(f\"Updated productID {product_id} in operationID {operation_id} with new price {historical_price}.\")\n",
    "            else:\n",
    "                # Insert new record if productID doesn't exist in 'toTable'\n",
    "                to_collection.insert_one(record)\n",
    "                print(f\"Inserted new productID {product_id} in operationID {operation_id} with price {historical_price}.\")\n",
    "\n",
    "        # Update the log_data for this operation after execution\n",
    "        collection_c.update_one(\n",
    "            {\"operationID\": operation_id},\n",
    "            {\n",
    "                \"$set\": {\n",
    "                    \"Execution_Date\": current_date,\n",
    "                    \"Today_Date\": current_date\n",
    "                }\n",
    "            }\n",
    "        )\n",
    "\n",
    "        print(f\"OperationID {operation_id} complete, logs updated.\")\n",
    "\n",
    "# Call the pipeline function for all log entries\n",
    "update_prices_for_all_logs()"
   ]
  },
  {
   "cell_type": "markdown",
   "metadata": {},
   "source": [
    "## Submission instructions\n",
    "\n",
    "{rubric: mechanics = 5}\n",
    "\n",
    "- Make sure the notebook can run from top to bottom without any error. Restart the kernel and run all cells.\n",
    "- Commit and push your notebook to the github repo\n",
    "- Double check your notebook is rendered properly on Github and you can see all the outputs clearly\n",
    "- Submit a URL to the github repo that contain this worksheet to Moodle"
   ]
  }
 ],
 "metadata": {
  "kernelspec": {
   "display_name": "base",
   "language": "python",
   "name": "python3"
  },
  "language_info": {
   "codemirror_mode": {
    "name": "ipython",
    "version": 3
   },
   "file_extension": ".py",
   "mimetype": "text/x-python",
   "name": "python",
   "nbconvert_exporter": "python",
   "pygments_lexer": "ipython3",
   "version": "3.11.9"
  }
 },
 "nbformat": 4,
 "nbformat_minor": 2
}
