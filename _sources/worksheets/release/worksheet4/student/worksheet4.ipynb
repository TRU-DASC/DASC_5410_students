{
 "cells": [
  {
   "cell_type": "code",
   "execution_count": null,
   "metadata": {
    "deletable": false,
    "editable": false
   },
   "outputs": [],
   "source": [
    "# Initialize Otter\n",
    "import otter\n",
    "grader = otter.Notebook(\"worksheet4.ipynb\")"
   ]
  },
  {
   "cell_type": "markdown",
   "metadata": {},
   "source": [
    "# Worksheet 4: PostgreSQL data manipulation"
   ]
  },
  {
   "cell_type": "code",
   "execution_count": null,
   "metadata": {},
   "outputs": [],
   "source": [
    "import numpy as np\n",
    "import pandas as pd\n",
    "%load_ext sql\n",
    "%config SqlMagic.displaylimit = 20\n",
    "%config SqlMagic.autolimit = 30"
   ]
  },
  {
   "cell_type": "code",
   "execution_count": null,
   "metadata": {},
   "outputs": [],
   "source": [
    "\n",
    "# load the credentials from the credentials.json file\n",
    "import json\n",
    "import urllib.parse\n",
    "\n",
    "with open('data/credentials.json') as f:\n",
    "    login = json.load(f)\n",
    "    \n",
    "username = login['user']\n",
    "password = urllib.parse.quote(login['password'])\n",
    "host = login['host']\n",
    "port = login['port']"
   ]
  },
  {
   "cell_type": "code",
   "execution_count": null,
   "metadata": {},
   "outputs": [],
   "source": [
    "%sql postgresql://{username}:{password}@{host}:{port}/dvdrental"
   ]
  },
  {
   "cell_type": "code",
   "execution_count": null,
   "metadata": {},
   "outputs": [],
   "source": [
    "%%sql\n",
    "DROP TABLE IF EXISTS employees;\n",
    "DROP TABLE IF EXISTS departments;"
   ]
  },
  {
   "cell_type": "markdown",
   "metadata": {},
   "source": [
    "### Exercise 1: Create Table with Constraints\n",
    "\n",
    "#### Task\n",
    "Create a table named `students` with the following columns and constraints:\n",
    "- `id`: An auto-incrementing primary key.\n",
    "- `first_name`: A non-nullable string with a maximum length of 50 characters.\n",
    "- `last_name`: A non-nullable string with a maximum length of 50 characters.\n",
    "- `email`: A unique string with a maximum length of 100 characters.\n",
    "- `age`: An integer that must be greater than or equal to 18.\n",
    "- `department`: A string with a maximum length of 50 characters, defaulting to 'General'.\n",
    "\n",
    "#### Instructions\n",
    "1. Write the SQL code to create the `students` table with the specified constraints.\n",
    "2. Write code to test each constraint:\n",
    "   - Test the `NOT NULL` constraint on `first_name` and `last_name`.\n",
    "   - Test the `UNIQUE` constraint on `email`.\n",
    "   - Test the `CHECK` constraint on `age`.\n",
    "   - Test the `DEFAULT` constraint on `department`.\n"
   ]
  },
  {
   "cell_type": "markdown",
   "metadata": {},
   "source": [
    "_Type your answer here, replacing this text._"
   ]
  },
  {
   "cell_type": "code",
   "execution_count": null,
   "metadata": {
    "tags": []
   },
   "outputs": [],
   "source": [
    "..."
   ]
  },
  {
   "cell_type": "markdown",
   "metadata": {
    "deletable": false,
    "editable": false
   },
   "source": [
    "<!-- END QUESTION -->\n",
    "\n",
    "### Exercise 2: Add Foreign Key Constraint with Cascade\n",
    "\n",
    "#### Task\n",
    "Extend the previous exercise by creating a new table named `courses` and adding a foreign key constraint to the `students` table. The `courses` table should have the following columns:\n",
    "- `id`: An auto-incrementing primary key.\n",
    "- `name`: A non-nullable string with a maximum length of 100 characters.\n",
    "\n",
    "Modify the `students` table to include a foreign key column `course_id` that references the `id` column in the `courses` table. Use the `ON DELETE CASCADE` and `ON UPDATE CASCADE` options for the foreign key constraint.\n",
    "\n",
    "#### Instructions\n",
    "1. Write the SQL code to create the `courses` table.\n",
    "2. Modify the `students` table to include the `course_id` column with the foreign key constraint.\n",
    "3. Write code to test the referential integrity:\n",
    "   - Test the `ON DELETE CASCADE` constraint.\n",
    "   - Test the `ON UPDATE CASCADE` constraint.\n"
   ]
  },
  {
   "cell_type": "markdown",
   "metadata": {},
   "source": [
    "_Type your answer here, replacing this text._"
   ]
  },
  {
   "cell_type": "code",
   "execution_count": null,
   "metadata": {
    "tags": []
   },
   "outputs": [],
   "source": [
    "...\n"
   ]
  },
  {
   "cell_type": "code",
   "execution_count": null,
   "metadata": {
    "tags": []
   },
   "outputs": [],
   "source": [
    "..."
   ]
  },
  {
   "cell_type": "markdown",
   "metadata": {
    "deletable": false,
    "editable": false
   },
   "source": [
    "<!-- END QUESTION -->\n",
    "\n",
    "### Exercise 3: Insert Records into the Students Table\n",
    "\n",
    "#### Task\n",
    "Extend the previous exercises by inserting 10 records into the `students` table. Ensure that the `course_id` values correspond to valid entries in the `courses` table.\n",
    "\n",
    "#### Instructions\n",
    "1. Write the SQL code to insert 10 records into the `students` table.\n",
    "2. Ensure that the `course_id` values correspond to valid entries in the `courses` table.\n",
    "3. Write code to query the `students` table and verify the inserted records.\n",
    "\n",
    "#### Expected output\n",
    "\n",
    "`courses` table\n",
    "\n",
    "| id |        name |\n",
    "|---:|------------:|\n",
    "|  1 | Mathematics |\n",
    "|  2 |     Physics |\n",
    "|  3 |   Chemistry |\n",
    "|  4 |     Biology |\n",
    "\n",
    "`students` table\n",
    "\n",
    "| id | first_name | last_name |                     email | age | department | course_id |\n",
    "|---:|-----------:|----------:|--------------------------:|----:|-----------:|----------:|\n",
    "|  1 |       John |       Doe |      john.doe@example.com |  20 |    General |         1 |\n",
    "|  2 |       Jane |     Smith |    jane.smith@example.com |  22 |    General |         2 |\n",
    "|  3 |      Alice |   Johnson | alice.johnson@example.com |  19 |    General |         3 |\n",
    "|  4 |        Bob |     Brown |     bob.brown@example.com |  21 |    General |         4 |\n",
    "|  5 |    Charlie |     Davis | charlie.davis@example.com |  23 |    General |         1 |\n",
    "|  6 |      Diana |     Evans |   diana.evans@example.com |  20 |    General |         2 |\n",
    "|  7 |        Eve |    Foster |    eve.foster@example.com |  22 |    General |         3 |\n",
    "|  8 |      Frank |     Green |   frank.green@example.com |  19 |    General |         4 |\n",
    "|  9 |      Grace |    Harris |  grace.harris@example.com |  21 |    General |         1 |\n",
    "| 10 |       Hank |       Ivy |      hank.ivy@example.com |  23 |    General |         2 |\n",
    "\n"
   ]
  },
  {
   "cell_type": "markdown",
   "metadata": {},
   "source": [
    "_Type your answer here, replacing this text._"
   ]
  },
  {
   "cell_type": "markdown",
   "metadata": {
    "deletable": false,
    "editable": false
   },
   "source": [
    "<!-- BEGIN QUESTION -->\n",
    "\n"
   ]
  },
  {
   "cell_type": "code",
   "execution_count": null,
   "metadata": {
    "tags": []
   },
   "outputs": [],
   "source": [
    "..."
   ]
  },
  {
   "cell_type": "code",
   "execution_count": null,
   "metadata": {
    "tags": []
   },
   "outputs": [],
   "source": [
    "%%sql\n",
    "SELECT * FROM students;"
   ]
  },
  {
   "cell_type": "code",
   "execution_count": null,
   "metadata": {
    "tags": []
   },
   "outputs": [],
   "source": [
    "%%sql\n",
    "SELECT * FROM courses;"
   ]
  },
  {
   "cell_type": "markdown",
   "metadata": {
    "deletable": false,
    "editable": false
   },
   "source": [
    "<!-- END QUESTION -->\n",
    "\n",
    "### Exercise 4: Aggregate Functions - COUNT, AVG, MIN, MAX\n",
    "\n",
    "#### Task\n",
    "Write SQL queries to perform the following aggregate functions on the `students` table:\n",
    "1. Count the total number of students.\n",
    "2. Calculate the average age of students.\n",
    "3. Find the minimum age of students.\n",
    "4. Find the maximum age of students.\n",
    "\n",
    "\n",
    "#### Solution\n",
    "\n"
   ]
  },
  {
   "cell_type": "markdown",
   "metadata": {
    "deletable": false,
    "editable": false
   },
   "source": [
    "<!-- BEGIN QUESTION -->\n",
    "\n"
   ]
  },
  {
   "cell_type": "code",
   "execution_count": null,
   "metadata": {
    "tags": []
   },
   "outputs": [],
   "source": [
    "..."
   ]
  },
  {
   "cell_type": "markdown",
   "metadata": {
    "deletable": false,
    "editable": false
   },
   "source": [
    "<!-- END QUESTION -->\n",
    "\n",
    "### Exercise 5: Aggregate Functions - GROUP BY, WHERE, HAVING, and ORDER BY\n",
    "\n",
    "#### Task\n",
    "Write SQL queries to perform the following operations on the `students` table:\n",
    "1. Group students by `course_id` and count the number of students in each course.\n",
    "2. Group students by `course_id` and calculate the average age of students in each course.\n",
    "3. Group students by `course_id` and find the minimum age of students in each course.\n",
    "4. Group students by `course_id` and find the maximum age of students in each course.\n",
    "5. Use the `HAVING` clause to filter groups where the average age of students is greater than 21.\n",
    "6. Use the `WHERE` clause to filter students who are older than 20 before performing the aggregation.\n",
    "7. Use the `ORDER BY` clause to sort the results by the number of students in each course in descending order.\n"
   ]
  },
  {
   "cell_type": "markdown",
   "metadata": {},
   "source": [
    "_Type your answer here, replacing this text._"
   ]
  },
  {
   "cell_type": "markdown",
   "metadata": {
    "deletable": false,
    "editable": false
   },
   "source": [
    "<!-- BEGIN QUESTION -->\n",
    "\n"
   ]
  },
  {
   "cell_type": "code",
   "execution_count": null,
   "metadata": {
    "tags": []
   },
   "outputs": [],
   "source": [
    "..."
   ]
  },
  {
   "cell_type": "markdown",
   "metadata": {
    "deletable": false,
    "editable": false
   },
   "source": [
    "<!-- END QUESTION -->\n",
    "\n",
    "## Submission instructions\n",
    "\n",
    "{rubric: mechanics = 5}\n",
    "\n",
    "- Make sure the notebook can run from top to bottom without any error. Restart the kernel and run all cells.\n",
    "- Commit and push your notebook to the github repo\n",
    "- Double check your notebook is rendered properly on Github and you can see all the outputs clearly\n",
    "- Submit URL of your Github repo to Moodle under worksheet 3"
   ]
  }
 ],
 "metadata": {
  "kernelspec": {
   "display_name": "dasc_5410",
   "language": "python",
   "name": "python3"
  },
  "language_info": {
   "codemirror_mode": {
    "name": "ipython",
    "version": 3
   },
   "file_extension": ".py",
   "mimetype": "text/x-python",
   "name": "python",
   "nbconvert_exporter": "python",
   "pygments_lexer": "ipython3",
   "version": "3.11.9"
  },
  "otter": {
   "OK_FORMAT": true,
   "tests": {}
  }
 },
 "nbformat": 4,
 "nbformat_minor": 2
}
