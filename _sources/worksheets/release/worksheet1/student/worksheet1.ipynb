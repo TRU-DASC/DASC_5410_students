{
 "cells": [
  {
   "cell_type": "code",
   "execution_count": null,
   "metadata": {
    "deletable": false,
    "editable": false
   },
   "outputs": [],
   "source": [
    "# Initialize Otter\n",
    "import otter\n",
    "grader = otter.Notebook(\"worksheet1.ipynb\")"
   ]
  },
  {
   "cell_type": "markdown",
   "metadata": {},
   "source": [
    "# Worksheet 1: Introduction to databases"
   ]
  },
  {
   "cell_type": "markdown",
   "metadata": {},
   "source": [
    "Welcome! In this week, we will start off easy with some exercise to help you set up the environment in which you will be using for the upcoming assignment. "
   ]
  },
  {
   "cell_type": "markdown",
   "metadata": {},
   "source": [
    "First off, you will need to install Miniconda, if you haven't already"
   ]
  },
  {
   "cell_type": "markdown",
   "metadata": {},
   "source": [
    "## Install miniconda"
   ]
  },
  {
   "cell_type": "markdown",
   "metadata": {},
   "source": [
    "<details>\n",
    "<summary>macOS</summary>\n",
    "<br>\n",
    "\n",
    "You can find the Mac ARM and Intel download links here: https://conda-forge.org/miniforge/. Make sure you use the Miniforge3 installers, not the other ones listed. We will assume you downloaded the file into your Downloads folder.\n",
    "\n",
    "Once downloaded, open up a terminal and run the following command\n",
    "\n",
    ">bash ${HOME}/Downloads/Miniforge3.sh -b -p \"${HOME}/miniforge3\"\n",
    "\n",
    "After installation run the following commands\n",
    "\n",
    ">source \"${HOME}/miniforge3/etc/profile.d/conda.sh\"\n",
    ">\n",
    ">conda activate\n",
    ">\n",
    ">conda init\n",
    "\n",
    "\n",
    "\n",
    "After installation, restart the terminal. If the installation was successful, you will see (base) prepending to your prompt string. To confirm that conda is working, you can ask it which version was installed:\n",
    "\n",
    ">conda --version\n",
    "\n",
    "which should return something like this, it doesn't have to be the exact same version:\n",
    "\n",
    ">conda 24.7.1\n",
    "\n",
    "Note: If you see `zsh: command not found: conda`, see the section on Bash below to set your default Terminal shell to Bash as opposed to Zsh.\n",
    "\n",
    "You can change the default shell in your Terminal to Bash by opening the Terminal and typing:\n",
    "```\n",
    "chsh -s /bin/bash\n",
    "```\n",
    "\n",
    "You will have to quit all instances of open Terminals and then restart the Terminal for this to take effect.\n",
    "\n",
    "</details>"
   ]
  },
  {
   "cell_type": "markdown",
   "metadata": {},
   "source": [
    "<details>\n",
    "<summary>Windows</summary>\n",
    "<br>\n",
    "\n",
    "You can find the Mac ARM and Intel download links here: https://conda-forge.org/miniforge/. Make sure you use the Miniforge3 installers, not the other ones listed. We will assume you downloaded the file into your Downloads folder.\n",
    "\n",
    "Once downloaded, run the installer.\n",
    "\n",
    "Use all the default options in the installer.\n",
    "\n",
    "The install location should look something like: `C:\\Users\\YOUR_USER_NAME\\miniforge3`\n",
    "\n",
    "Note: Do not add miniforge to PATH. We will set this up later.\n",
    "\n",
    "After installation, open the Start Menu and search for the program called “Miniforge Prompt”. When this opens you will see a prompt similar to `(base) C:\\Users\\your_name`. \n",
    "\n",
    "Type the following to check that your Python installation is working:\n",
    "\n",
    "\n",
    ">python --version\n",
    "\n",
    "\n",
    "which should return Python 3.11.0 or greater:\n",
    "\n",
    ">Python 3.11.0\n",
    "\n",
    "If not, run the following command in the Miniforge Prompt, Confirm that you are in the (base) environment. Then update the base python with:\n",
    "\n",
    "> conda install python=3.11\n",
    "\n",
    "**Integrating Python with the Git Bash terminal**\n",
    "\n",
    "To avoid having to open the separate Anaconda Prompt every time we want to use Python, we can make it available from the (Git Bash) terminal, which is what we will be using most of the time. To set this up, open the “Miniforge Prompt” again and type:\n",
    "\n",
    ">conda init bash\n",
    "\n",
    "You will see that this modified a few configuration files, which makes conda visible to the terminal. Close all open terminal windows and launch a new one, you should now see that the prompt string has changed to include the word (base).\n",
    "\n",
    "</details>"
   ]
  },
  {
   "cell_type": "markdown",
   "metadata": {},
   "source": [
    "## Set up the DASC 5410's environment"
   ]
  },
  {
   "cell_type": "markdown",
   "metadata": {},
   "source": [
    "- First off, clone the worksheet 1 github repo to your local computer. \n",
    "\n",
    "If you don't know how to clone a github repo yet, you can just open a terminal and type\n",
    "\n",
    "> git clone [insert your github URL to worksheet1 here]\n",
    "\n",
    "For example, if I were a student, I would run `git clone https://github.com/TRU-PBADS/week1-intro-nosql-quan3010`"
   ]
  },
  {
   "cell_type": "markdown",
   "metadata": {},
   "source": [
    "- Second, open a terminal, and navigate to the git folder that you just cloned locally\n",
    "\n",
    "> cd [PATH to your git repo locally]"
   ]
  },
  {
   "cell_type": "markdown",
   "metadata": {},
   "source": [
    "- Third, install the conda environment based on the provided `dasc_5410.yaml` file"
   ]
  },
  {
   "cell_type": "markdown",
   "metadata": {},
   "source": [
    "> conda env create -f dasc_5410.yaml"
   ]
  },
  {
   "cell_type": "markdown",
   "metadata": {},
   "source": [
    "This will take a while to set up the environment. You might be prompted to say y/n a few times. Once it's finished, you can open a IDE (e.g., vscode or jupyterlab) and select the adsc_3610 environment"
   ]
  },
  {
   "cell_type": "markdown",
   "metadata": {},
   "source": [
    "## Exercise 1\n",
    "\n",
    "{rubric: accuracy = 5}\n",
    "\n",
    "Follow the installation guide above. If successful, you should be able to run the following code chunk. We will try to import `pymongo` (to connect to mongoDB), `ipython-sql` which we use to run SQL querries directly in jupyter notebook, and `otter` which is an autograder package."
   ]
  },
  {
   "cell_type": "code",
   "execution_count": null,
   "metadata": {},
   "outputs": [],
   "source": [
    "import pymongo\n",
    "print(pymongo.__version__)"
   ]
  },
  {
   "cell_type": "code",
   "execution_count": null,
   "metadata": {},
   "outputs": [],
   "source": [
    "import otter\n",
    "print(otter.__version__)"
   ]
  },
  {
   "cell_type": "code",
   "execution_count": null,
   "metadata": {},
   "outputs": [],
   "source": [
    "# load the ipython-sql extension\n",
    "%load_ext sql"
   ]
  },
  {
   "cell_type": "markdown",
   "metadata": {},
   "source": [
    "## Exercise 2\n",
    "\n",
    "{rubric: accuracy = 5}\n",
    "\n",
    "In this course, there will be some autograded question. Now I would like to you test one of them to see if it's working. "
   ]
  },
  {
   "cell_type": "markdown",
   "metadata": {},
   "source": [
    "Write a simply Pythonofunction to sum up two numbers"
   ]
  },
  {
   "cell_type": "code",
   "execution_count": null,
   "metadata": {
    "tags": []
   },
   "outputs": [],
   "source": [
    "def sum(a,b):\n",
    "    ..."
   ]
  },
  {
   "cell_type": "markdown",
   "metadata": {
    "deletable": false,
    "editable": false
   },
   "source": [
    "Run the cell below to test if your sum function pass the autograded test. You should see a message like \"q1 passed! 🎉\""
   ]
  },
  {
   "cell_type": "code",
   "execution_count": null,
   "metadata": {
    "deletable": false,
    "editable": false
   },
   "outputs": [],
   "source": [
    "grader.check(\"q1\")"
   ]
  },
  {
   "cell_type": "markdown",
   "metadata": {},
   "source": [
    "If you run into an error like this\n",
    "\n",
    "```python\n",
    "---------------------------------------------------------------------------\n",
    "NameError                                 Traceback (most recent call last)\n",
    "Cell In[2], line 1\n",
    "----> 1 grader.check(\"q1\")\n",
    "\n",
    "NameError: name 'grader' is not defined\n",
    "```\n",
    "\n",
    "Then make sure you run the first cell, on top of this notebook, to initialize otter-grader"
   ]
  },
  {
   "cell_type": "markdown",
   "metadata": {},
   "source": [
    "## Exercise 3: Download and install PostgreSQL"
   ]
  },
  {
   "cell_type": "markdown",
   "metadata": {},
   "source": [
    "### 3.1 \n",
    "{rubric: completion = 5}\n",
    "\n",
    "\n",
    "We will be using PostgreSQL as our database management system. You can download the most recent version of PostgreSQL from [here](https://www.postgresql.org/download/). \n",
    "\n",
    "Follow the instructions for the installation. In the password page, type whatever password you want, and make sure you remember it.\n",
    "\n",
    "You do not need to run “StackBuilder” at the end of the installation (if you accidentally launch the StackBuilder, click “cancel”, you don’t need to check any boxes).\n",
    "\n",
    "To test if the installation was successful open the SQL Shell app from the LaunchPad or applications directory. You will be asked to setup your configuration:\n",
    "\n",
    "- Accept the default value (the one within square brackets) for the first three values by pressing enter three times,\n",
    "- Enter **postgres** as the default username and hit enter,\n",
    "- Finally, type in the password that you set during installation and press enter one last time."
   ]
  },
  {
   "cell_type": "markdown",
   "metadata": {},
   "source": [
    "### 3.2 \n",
    "\n",
    "{rubric: completion = 5}\n",
    "\n",
    "Download a sample dvd rental dataset here. https://www.postgresqltutorial.com/postgresql-getting-started/postgresql-sample-database/ \n",
    "\n",
    "We will be using this dataset for exercises in the future\n"
   ]
  },
  {
   "cell_type": "markdown",
   "metadata": {},
   "source": [
    "### 3.3\n",
    "\n",
    "{rubric: completion = 5}\n",
    "\n",
    "Follow this video tutorial to load the dvdrental file into the PostgreSQL database\n",
    "\n",
    "https://www.youtube.com/watch?v=mrlBdrOb_6s"
   ]
  },
  {
   "cell_type": "markdown",
   "metadata": {},
   "source": [
    "### 3.4\n",
    "\n",
    "{rubric: completion = 5}\n",
    "\n",
    "Now we will try to use the `ipython-sql` package to connect to our local PostgreSQL database called `dvdrental`\n",
    "\n",
    "First you will need to create a credentials.json file in the data folder with the following configuration\n",
    "\n",
    "```\n",
    "{\n",
    "    \"host\": \"localhost\",\n",
    "    \"port\": 5432,\n",
    "    \"user\": \"postgres\",\n",
    "    \"password\": \"replaceyourpasswordhere\"\n",
    "  }\n",
    "```"
   ]
  },
  {
   "cell_type": "code",
   "execution_count": null,
   "metadata": {},
   "outputs": [],
   "source": [
    "import json\n",
    "import urllib.parse\n",
    "\n",
    "with open('data/credentials.json') as f:\n",
    "    login = json.load(f)\n",
    "    \n",
    "username = login['user']\n",
    "password = urllib.parse.quote(login['password'])\n",
    "host = login['host']\n",
    "port = login['port']"
   ]
  },
  {
   "cell_type": "markdown",
   "metadata": {},
   "source": [
    "We will now try to connect to your dvdrental database in PostgreSQL.\n",
    "\n",
    "If successful, it should display \n",
    "\n",
    "> 'Connected: postgres@dvdrental'"
   ]
  },
  {
   "cell_type": "code",
   "execution_count": null,
   "metadata": {},
   "outputs": [],
   "source": [
    "%sql postgresql://{username}:{password}@{host}:{port}/dvdrental"
   ]
  },
  {
   "cell_type": "markdown",
   "metadata": {},
   "source": [
    "We can test to run a SQL querry on the `actor` table. This should give you the first name and last name of five actors"
   ]
  },
  {
   "cell_type": "code",
   "execution_count": null,
   "metadata": {},
   "outputs": [],
   "source": [
    "%sql SELECT first_name, last_name FROM actor Limit 5;"
   ]
  },
  {
   "cell_type": "markdown",
   "metadata": {},
   "source": [
    "## Submission instructions\n",
    "\n",
    "{rubric: mechanics = 5}\n",
    "\n",
    "- Make sure the notebook can run from top to bottom without any error. Restart the kernel and run all cells.\n",
    "- Commit and push your notebook to the github repo\n",
    "- Double check your notebook is rendered properly on Github and you can see all the outputs clearly"
   ]
  }
 ],
 "metadata": {
  "kernelspec": {
   "display_name": "Python 3 (ipykernel)",
   "language": "python",
   "name": "python3"
  },
  "language_info": {
   "codemirror_mode": {
    "name": "ipython",
    "version": 3
   },
   "file_extension": ".py",
   "mimetype": "text/x-python",
   "name": "python",
   "nbconvert_exporter": "python",
   "pygments_lexer": "ipython3",
   "version": "3.12.2"
  },
  "otter": {
   "OK_FORMAT": true,
   "tests": {
    "q1": {
     "name": "q1",
     "points": 1,
     "suites": [
      {
       "cases": [
        {
         "code": ">>> assert sum(1, 2) == 3, 'Your function is not implemented correctly'\n",
         "hidden": false,
         "locked": false
        }
       ],
       "scored": true,
       "setup": "",
       "teardown": "",
       "type": "doctest"
      }
     ]
    }
   }
  }
 },
 "nbformat": 4,
 "nbformat_minor": 4
}
