{
 "cells": [
  {
   "cell_type": "markdown",
   "metadata": {},
   "source": [
    "# Worksheet 2: Introduction to relational models"
   ]
  },
  {
   "cell_type": "markdown",
   "metadata": {},
   "source": [
    "## Exercise 1: Understanding Relational Database Concepts\n",
    "\n",
    "rubric: {accuracy = 12}\n",
    "\n",
    "#### Objective\n",
    "Test your understanding of key properties of relations, different types of keys, and the four integrity rules in relational databases.\n"
   ]
  },
  {
   "cell_type": "markdown",
   "metadata": {},
   "source": [
    "\n",
    "### Sample Dataset: Bookstore\n",
    "\n",
    "#### `Books` Table\n",
    "\n",
    "| BookID | Title                | Genre       | Price | AuthorID |\n",
    "|--------|----------------------|-------------|-------|----------|\n",
    "| 1      | The Great Gatsby     | Fiction     | 10.99 | 101      |\n",
    "| 2      | To Kill a Mockingbird| Fiction     | 8.99  | 102      |\n",
    "| 3      | A Brief History of Time | Non-Fiction | 15.99 | 103      |\n",
    "\n",
    "#### `Authors` Table\n",
    "\n",
    "| AuthorID | FirstName | LastName |\n",
    "|----------|-----------|----------|\n",
    "| 101      | F. Scott  | Fitzgerald|\n",
    "| 102      | Harper    | Lee       |\n",
    "| 103      | Stephen   | Hawking   |\n"
   ]
  },
  {
   "cell_type": "markdown",
   "metadata": {},
   "source": [
    "\n",
    "### 1.1: Key Properties of Relations\n",
    "\n",
    "#### Questions\n",
    "\n",
    "1. **Attributes**:\n",
    "   - Define what an attribute is in the context of a relational database.\n",
    "     - **Answer**: \n",
    "   - Provide an example of an attribute in the `Books` table.\n",
    "     - **Answer**: \n"
   ]
  },
  {
   "cell_type": "markdown",
   "metadata": {},
   "source": [
    "\n",
    "2. **Tuples**:\n",
    "   - Define what a tuple is in the context of a relational database.\n",
    "     - **Answer**: \n",
    "   - Provide an example of a tuple in the `Books` table.\n",
    "     - **Answer**: "
   ]
  },
  {
   "cell_type": "markdown",
   "metadata": {},
   "source": [
    "\n",
    "3. **Domain**:\n",
    "   - Define what a domain is in the context of a relational database.\n",
    "     - **Answer**: \n",
    "   - Provide an example of a domain for the `Price` attribute in the `Books` table.\n",
    "     - **Answer**: \n"
   ]
  },
  {
   "cell_type": "markdown",
   "metadata": {},
   "source": [
    "\n",
    "4. **Degree**:\n",
    "   - Define what the degree of a relation is.\n",
    "     - **Answer**: \n",
    "   - Determine the degree of the `Books` table.\n",
    "     - **Answer**: \n",
    "\n"
   ]
  },
  {
   "cell_type": "markdown",
   "metadata": {},
   "source": [
    "### 1.2: Different Types of Keys\n",
    "\n",
    "#### Questions\n",
    "\n",
    "1. **Primary Key**:\n",
    "   - Define what a primary key is.\n",
    "     - **Answer**: \n",
    "   - Identify the primary key in the `Books` table.\n",
    "     - **Answer**: \n"
   ]
  },
  {
   "cell_type": "markdown",
   "metadata": {},
   "source": [
    "\n",
    "2. **Foreign Key**:\n",
    "   - Define what a foreign key is.\n",
    "     - **Answer**: \n",
    "   - Identify the foreign key in the `Books` table.\n",
    "     - **Answer**: \n"
   ]
  },
  {
   "cell_type": "markdown",
   "metadata": {},
   "source": [
    "\n",
    "3. **Candidate Key**:\n",
    "   - Define what a candidate key is.\n",
    "     - **Answer**: \n",
    "   - Identify any candidate keys in the `Books` table.\n",
    "     - **Answer**: \n"
   ]
  },
  {
   "cell_type": "markdown",
   "metadata": {},
   "source": [
    "\n",
    "4. **Composite Key**:\n",
    "   - Define what a composite key is.\n",
    "     - **Answer**: \n",
    "   - Provide an example of a composite key in a hypothetical `Sales` table.\n",
    "     - **Answer**: \n"
   ]
  },
  {
   "cell_type": "markdown",
   "metadata": {},
   "source": [
    "\n",
    "### 1.3: The Four Integrity Rules\n",
    "\n",
    "#### Questions\n",
    "\n",
    "1. **Entity Integrity**:\n",
    "   - Define what entity integrity is.\n",
    "     - **Answer**: \n",
    "   - Explain how entity integrity is enforced in the `Books` table.\n",
    "     - **Answer**: \n"
   ]
  },
  {
   "cell_type": "markdown",
   "metadata": {},
   "source": [
    "\n",
    "2. **Referential Integrity**:\n",
    "   - Define what referential integrity is.\n",
    "     - **Answer**: \n",
    "   - Explain how referential integrity is enforced between the `Books` and `Authors` tables.\n",
    "     - **Answer**: \n"
   ]
  },
  {
   "cell_type": "markdown",
   "metadata": {},
   "source": [
    "\n",
    "3. **Domain Integrity**:\n",
    "   - Define what domain integrity is.\n",
    "     - **Answer**: \n",
    "   - Provide an example of domain integrity in the `Books` table.\n",
    "     - **Answer**: \n"
   ]
  },
  {
   "cell_type": "markdown",
   "metadata": {},
   "source": [
    "\n",
    "4. **User-Defined Integrity**:\n",
    "   - Define what user-defined integrity is.\n",
    "     - **Answer**: \n",
    "   - Provide an example of a user-defined integrity rule in the `Books` table.\n",
    "     - **Answer**: \n"
   ]
  },
  {
   "cell_type": "markdown",
   "metadata": {},
   "source": [
    "### Exercise 2: Understanding Relational Algebra with SQL\n",
    "\n",
    "rubric: {accuracy = 7}\n",
    "\n",
    "#### Objective\n",
    "Test your understanding of relational algebra operations using SQL queries on a sample dataset from a bookstore. Predict the type of relational algebra operation based on the given SQL query and its output. Choose the correct operation from the provided list of options.\n",
    "\n",
    "### Sample Dataset: Bookstore\n",
    "\n",
    "#### `Books` Table\n",
    "\n",
    "| BookID | Title                | Genre       | Price | AuthorID |\n",
    "|--------|----------------------|-------------|-------|----------|\n",
    "| 1      | The Great Gatsby     | Fiction     | 10.99 | 101      |\n",
    "| 2      | To Kill a Mockingbird| Fiction     | 8.99  | 102      |\n",
    "| 3      | A Brief History of Time | Non-Fiction | 15.99 | 103      |\n",
    "| 4      | The Catcher in the Rye | Fiction     | 7.99  | 104      |\n",
    "| 5      | Sapiens              | Non-Fiction | 18.99 | 105      |\n",
    "\n",
    "#### `Authors` Table\n",
    "\n",
    "| AuthorID | FirstName | LastName |\n",
    "|----------|-----------|----------|\n",
    "| 101      | F. Scott  | Fitzgerald|\n",
    "| 102      | Harper    | Lee       |\n",
    "| 103      | Stephen   | Hawking   |\n",
    "| 104      | J.D.      | Salinger  |\n",
    "| 105      | Yuval     | Harari    |\n"
   ]
  },
  {
   "cell_type": "markdown",
   "metadata": {},
   "source": [
    "\n",
    "### Relational Algebra Operations Options\n",
    "\n",
    "1. Selection (σ)\n",
    "2. Projection (π)\n",
    "3. Union (∪)\n",
    "4. Set Difference (−)\n",
    "5. Cartesian Product (×)\n",
    "6. Join (⨝)\n",
    "7. Intersection (∩)\n"
   ]
  },
  {
   "cell_type": "markdown",
   "metadata": {},
   "source": [
    "For each of the query below, I have provided a sample SQL query and the output from that query. Your task is to determine what type of relational algebra operation it is (e.g. select, projection, union, product, join, etc...)\n",
    "\n"
   ]
  },
  {
   "cell_type": "markdown",
   "metadata": {},
   "source": [
    "#### Questions\n",
    "\n",
    "1. **Query 1**:\n",
    "   - **SQL Query**:\n",
    "     ```sql\n",
    "     SELECT * FROM Books WHERE Genre = 'Fiction';\n",
    "     ```\n",
    "   - **Output**:\n",
    "\n",
    "     | BookID | Title                | Genre   | Price | AuthorID |\n",
    "     |--------|----------------------|---------|-------|----------|\n",
    "     | 1      | The Great Gatsby     | Fiction | 10.99 | 101      |\n",
    "     | 2      | To Kill a Mockingbird| Fiction | 8.99  | 102      |\n",
    "     | 4      | The Catcher in the Rye | Fiction | 7.99  | 104      |\n"
   ]
  },
  {
   "cell_type": "markdown",
   "metadata": {},
   "source": [
    "\n",
    "   - **Predict the type of relational algebra operation**:\n",
    "     - **Answer**: \n"
   ]
  },
  {
   "cell_type": "markdown",
   "metadata": {},
   "source": [
    "\n",
    "2. **Query 2**:\n",
    "   - **SQL Query**:\n",
    "     ```sql\n",
    "     SELECT Title, Price FROM Books;\n",
    "     ```\n",
    "   - **Output**:\n",
    "\n",
    "     | Title                    | Price |\n",
    "     |--------------------------|-------|\n",
    "     | The Great Gatsby         | 10.99 |\n",
    "     | To Kill a Mockingbird    | 8.99  |\n",
    "     | A Brief History of Time  | 15.99 |\n",
    "     | The Catcher in the Rye   | 7.99  |\n",
    "     | Sapiens                  | 18.99 |\n",
    "\n"
   ]
  },
  {
   "cell_type": "markdown",
   "metadata": {},
   "source": [
    "   - **Predict the type of relational algebra operation**:\n",
    "     - **Answer**: \n"
   ]
  },
  {
   "cell_type": "markdown",
   "metadata": {},
   "source": [
    "\n",
    "3. **Query 3**:\n",
    "   - **SQL Query**:\n",
    "     ```sql\n",
    "     SELECT * FROM Books WHERE Price < 10\n",
    "     UNION\n",
    "     SELECT * FROM Books WHERE Price > 15;\n",
    "     ```\n",
    "   - **Output**:\n",
    "\n",
    "     | BookID | Title                    | Genre       | Price | AuthorID |\n",
    "     |--------|--------------------------|-------------|-------|----------|\n",
    "     | 4      | The Catcher in the Rye   | Fiction     | 7.99  | 104      |\n",
    "     | 5      | Sapiens                  | Non-Fiction | 18.99 | 105      |\n",
    "     | 3      | A Brief History of Time  | Non-Fiction | 15.99 | 103      |\n",
    "\n"
   ]
  },
  {
   "cell_type": "markdown",
   "metadata": {},
   "source": [
    "   - **Predict the type of relational algebra operation**:\n",
    "     - **Answer**: \n"
   ]
  },
  {
   "cell_type": "markdown",
   "metadata": {},
   "source": [
    "\n",
    "4. **Query 4**:\n",
    "   - **SQL Query**:\n",
    "     ```sql\n",
    "     SELECT * FROM Books WHERE Genre = 'Fiction' AND AuthorID != 102;\n",
    "     ```\n",
    "   - **Output**:\n",
    "\n",
    "     | BookID | Title                | Genre   | Price | AuthorID |\n",
    "     |--------|----------------------|---------|-------|----------|\n",
    "     | 1      | The Great Gatsby     | Fiction | 10.99 | 101      |\n",
    "     | 4      | The Catcher in the Rye | Fiction | 7.99  | 104      |\n",
    "\n"
   ]
  },
  {
   "cell_type": "markdown",
   "metadata": {},
   "source": [
    "   - **Predict the type of relational algebra operation**:\n",
    "     - **Answer**: \n"
   ]
  },
  {
   "cell_type": "markdown",
   "metadata": {},
   "source": [
    "\n",
    "5. **Query 5**:\n",
    "   - **SQL Query**:\n",
    "     ```sql\n",
    "     SELECT * FROM Books, Authors;\n",
    "     ```\n",
    "   - **Output**: (Note: This will produce a large number of rows, showing all possible combinations of `Books` and `Authors`.)\n"
   ]
  },
  {
   "cell_type": "markdown",
   "metadata": {},
   "source": [
    "\n",
    "   - **Predict the type of relational algebra operation**:\n",
    "     - **Answer**: \n"
   ]
  },
  {
   "cell_type": "markdown",
   "metadata": {},
   "source": [
    "\n",
    "6. **Query 6**:\n",
    "   - **SQL Query**:\n",
    "     ```sql\n",
    "     SELECT * FROM Books JOIN Authors ON Books.AuthorID = Authors.AuthorID;\n",
    "     ```\n",
    "   - **Output**:\n",
    "\n",
    "     | BookID | Title                | Genre       | Price | AuthorID | FirstName | LastName    |\n",
    "     |--------|----------------------|-------------|-------|----------|-----------|-------------|\n",
    "     | 1      | The Great Gatsby     | Fiction     | 10.99 | 101      | F. Scott  | Fitzgerald  |\n",
    "     | 2      | To Kill a Mockingbird| Fiction     | 8.99  | 102      | Harper    | Lee         |\n",
    "     | 3      | A Brief History of Time | Non-Fiction | 15.99 | 103      | Stephen   | Hawking     |\n",
    "     | 4      | The Catcher in the Rye | Fiction     | 7.99  | 104      | J.D.      | Salinger    |\n",
    "     | 5      | Sapiens              | Non-Fiction | 18.99 | 105      | Yuval     | Harari      |\n"
   ]
  },
  {
   "cell_type": "markdown",
   "metadata": {},
   "source": [
    "\n",
    "   - **Predict the type of relational algebra operation**:\n",
    "     - **Answer**: \n"
   ]
  },
  {
   "cell_type": "markdown",
   "metadata": {},
   "source": [
    "7. **Query 7**:\n",
    "   - **SQL Query**:\n",
    "     ```sql\n",
    "     SELECT * FROM Books WHERE Genre = 'Fiction'\n",
    "     EXCEPT\n",
    "     SELECT * FROM Books WHERE AuthorID = 102;\n",
    "     ```\n",
    "   - **Output**: \n",
    "      | BookID | Title                | Genre   | Price | AuthorID |\n",
    "      |--------|----------------------|---------|-------|----------|\n",
    "      | 1      | The Great Gatsby     | Fiction | 10.99 | 101      |\n",
    "      | 4      | The Catcher in the Rye | Fiction | 7.99  | 104      |\n",
    "\n"
   ]
  },
  {
   "cell_type": "markdown",
   "metadata": {},
   "source": [
    "   - **Predict the type of relational algebra operation**:\n",
    "     - **Answer**\n"
   ]
  },
  {
   "cell_type": "markdown",
   "metadata": {},
   "source": [
    "### Exercise 3: Understanding Different Types of Relationships in Relational Databases\n",
    "\n",
    "rubric: {accuracy = 4}\n",
    "\n",
    "#### Objective\n",
    "Test your understanding of different types of relationships in relational databases using a sample dataset from a bookstore. Identify the type of relationship based on the given tables and their relationships. Justify your choice\n"
   ]
  },
  {
   "cell_type": "markdown",
   "metadata": {},
   "source": [
    "\n",
    "### Sample Dataset: Bookstore\n",
    "\n",
    "#### `Books` Table\n",
    "\n",
    "| BookID | Title                | GenreID | Price | AuthorID |\n",
    "|--------|----------------------|---------|-------|----------|\n",
    "| 1      | The Great Gatsby     | 1       | 10.99 | 101      |\n",
    "| 2      | To Kill a Mockingbird| 1       | 8.99  | 102      |\n",
    "| 3      | A Brief History of Time | 2    | 15.99 | 103      |\n",
    "| 4      | The Catcher in the Rye | 1    | 7.99  | 104      |\n",
    "| 5      | Sapiens              | 2       | 18.99 | 105      |\n",
    "\n",
    "#### `Authors` Table\n",
    "\n",
    "| AuthorID | FirstName | LastName |\n",
    "|----------|-----------|----------|\n",
    "| 101      | F. Scott  | Fitzgerald|\n",
    "| 102      | Harper    | Lee       |\n",
    "| 103      | Stephen   | Hawking   |\n",
    "| 104      | J.D.      | Salinger  |\n",
    "| 105      | Yuval     | Harari    |\n",
    "\n",
    "#### `Sales` Table\n",
    "\n",
    "| SaleID | BookID | Quantity | SaleDate   |\n",
    "|--------|--------|----------|------------|\n",
    "| 1      | 1      | 2        | 2023-01-15 |\n",
    "| 2      | 3      | 1        | 2023-01-16 |\n",
    "| 3      | 2      | 3        | 2023-01-17 |\n",
    "| 4      | 4      | 1        | 2023-01-18 |\n",
    "| 5      | 5      | 2        | 2023-01-19 |\n",
    "\n",
    "#### `Genres` Table\n",
    "\n",
    "| GenreID | GenreName   |\n",
    "|---------|-------------|\n",
    "| 1       | Fiction     |\n",
    "| 2       | Non-Fiction |\n",
    "\n",
    "\n"
   ]
  },
  {
   "cell_type": "markdown",
   "metadata": {},
   "source": [
    "### Types of Relationships\n",
    "\n",
    "1. One-to-One (1:1)\n",
    "2. One-to-Many (1:N)\n",
    "3. Many-to-Many (M:N)\n"
   ]
  },
  {
   "cell_type": "markdown",
   "metadata": {},
   "source": [
    "### Questions\n",
    "\n",
    "1. **Relationship 1**:\n",
    "   - **Tables**: `Books` and `Authors`\n"
   ]
  },
  {
   "cell_type": "markdown",
   "metadata": {},
   "source": [
    "   - **Type of Relationship and Description**:\n",
    "     - **Sample Answer**: \n",
    "One-to-Many (1:N). Each book is written by one author, and each author can write multiple books"
   ]
  },
  {
   "cell_type": "markdown",
   "metadata": {},
   "source": [
    "\n",
    "2. **Relationship 2**:\n",
    "   - **Tables**: `Books` and `Sales`\n"
   ]
  },
  {
   "cell_type": "markdown",
   "metadata": {},
   "source": [
    "   - **Type of Relationship and Description**:\n",
    "     - **Answer**: \n"
   ]
  },
  {
   "cell_type": "markdown",
   "metadata": {},
   "source": [
    "\n",
    "3. **Relationship 3**:\n",
    "   - **Tables**: `Authors` and `Sales`\n"
   ]
  },
  {
   "cell_type": "markdown",
   "metadata": {},
   "source": [
    "   - **Type of Relationship and Description**:\n",
    "     - **Answer**: \n"
   ]
  },
  {
   "cell_type": "markdown",
   "metadata": {},
   "source": [
    "\n",
    "4. **Relationship 4**:\n",
    "   - **Tables**: `Books` and `Genres`\n"
   ]
  },
  {
   "cell_type": "markdown",
   "metadata": {},
   "source": [
    "   - **Type of Relationship and Description**:\n",
    "     - **Answer**: \n"
   ]
  },
  {
   "cell_type": "markdown",
   "metadata": {},
   "source": [
    "\n",
    "5. **Relationship 5**:\n",
    "   - **Tables**: `Authors` and `Genres`\n"
   ]
  },
  {
   "cell_type": "markdown",
   "metadata": {},
   "source": [
    "   - **Type of Relationship and Description**:\n",
    "     - **Answer**: "
   ]
  },
  {
   "cell_type": "markdown",
   "metadata": {},
   "source": [
    "## Submission instructions\n",
    "\n",
    "{rubric: mechanics = 5}\n",
    "\n",
    "- Make sure the notebook can run from top to bottom without any error. Restart the kernel and run all cells.\n",
    "- Commit and push your notebook to the github repo\n",
    "- Double check your notebook is rendered properly on Github and you can see all the outputs clearly\n",
    "- Submit URL of your Github repo to Moodle under worksheet 2"
   ]
  }
 ],
 "metadata": {
  "kernelspec": {
   "display_name": "dasc_5410",
   "language": "python",
   "name": "python3"
  },
  "language_info": {
   "codemirror_mode": {
    "name": "ipython",
    "version": 3
   },
   "file_extension": ".py",
   "mimetype": "text/x-python",
   "name": "python",
   "nbconvert_exporter": "python",
   "pygments_lexer": "ipython3",
   "version": "3.11.9"
  }
 },
 "nbformat": 4,
 "nbformat_minor": 2
}
