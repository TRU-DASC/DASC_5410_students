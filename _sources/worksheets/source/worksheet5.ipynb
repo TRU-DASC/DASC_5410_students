{
 "cells": [
  {
   "cell_type": "raw",
   "metadata": {
    "vscode": {
     "languageId": "raw"
    }
   },
   "source": [
    "# ASSIGNMENT CONFIG\n",
    "solutions_pdf: false\n",
    "export_cell: false\n",
    "check_all_cell: false\n",
    "generate:\n",
    "    pdf: false\n",
    "    zips: false\n",
    "    show_hidden: false\n",
    "    show_stdout: true\n",
    "seed:\n",
    "    variable: rng_seed\n",
    "    autograder_value: 42\n",
    "    student_value: 90"
   ]
  },
  {
   "cell_type": "markdown",
   "metadata": {},
   "source": [
    "# Worksheet 5: Transactions, joins, subquerries"
   ]
  },
  {
   "cell_type": "code",
   "execution_count": null,
   "metadata": {},
   "outputs": [],
   "source": [
    "import numpy as np\n",
    "import pandas as pd\n",
    "%load_ext sql\n",
    "%config SqlMagic.displaylimit = 20\n",
    "%config SqlMagic.autolimit = 30"
   ]
  },
  {
   "cell_type": "markdown",
   "metadata": {},
   "source": [
    "Make sure to edit the `credentials.json` file with your details"
   ]
  },
  {
   "cell_type": "code",
   "execution_count": null,
   "metadata": {},
   "outputs": [],
   "source": [
    "\n",
    "# load the credentials from the credentials.json file\n",
    "import json\n",
    "import urllib.parse\n",
    "\n",
    "with open('data/credentials.json') as f:\n",
    "    login = json.load(f)\n",
    "    \n",
    "username = login['user']\n",
    "password = urllib.parse.quote(login['password'])\n",
    "host = login['host']\n",
    "port = login['port']"
   ]
  },
  {
   "cell_type": "code",
   "execution_count": null,
   "metadata": {},
   "outputs": [],
   "source": [
    "%sql postgresql://{username}:{password}@{host}:{port}/dvdrental"
   ]
  },
  {
   "cell_type": "raw",
   "metadata": {
    "vscode": {
     "languageId": "raw"
    }
   },
   "source": [
    "# BEGIN QUESTION\n",
    "name: q1\n",
    "manual: true"
   ]
  },
  {
   "cell_type": "markdown",
   "metadata": {},
   "source": [
    "## Exercise 1: Transactions in SQL\n",
    "\n",
    "rubric: {accuracy = 10}\n",
    "\n",
    "In this exercise, you will learn how to use transactions in SQL. Transactions allow you to execute a series of SQL statements as a single unit of work. You will also learn how to declare variables, use `COMMIT`, and `ROLLBACK`.\n",
    "\n",
    "### Scenario\n",
    "You are working with a bookstore database that contains the following tables:\n",
    "- **books**: Contains information about books.\n",
    "  - `book_id`\n",
    "  - `title`\n",
    "  - `author`\n",
    "  - `price`\n",
    "  - `stock`\n",
    "- **sales**: Contains information about book sales.\n",
    "  - `sale_id`\n",
    "  - `book_id`\n",
    "  - `quantity`\n",
    "  - `sale_date`\n"
   ]
  },
  {
   "cell_type": "code",
   "execution_count": null,
   "metadata": {
    "vscode": {
     "languageId": "sql"
    }
   },
   "outputs": [],
   "source": [
    "%%sql\n",
    "-- Step 1: Drop existing tables if they exist\n",
    "DROP TABLE IF EXISTS books CASCADE;\n",
    "DROP TABLE IF EXISTS sales CASCADE;\n",
    "\n",
    "-- Step 2: Create the books table\n",
    "CREATE TABLE books (\n",
    "    book_id SERIAL PRIMARY KEY,\n",
    "    title VARCHAR(255),\n",
    "    author VARCHAR(255),\n",
    "    price DECIMAL(10, 2),\n",
    "    stock INT\n",
    ");\n",
    "\n",
    "-- Step 3: Create the sales table\n",
    "CREATE TABLE sales (\n",
    "    sale_id SERIAL PRIMARY KEY,\n",
    "    book_id INT REFERENCES books(book_id),\n",
    "    quantity INT,\n",
    "    sale_date TIMESTAMP\n",
    ");\n",
    "\n",
    "-- Step 4: Insert sample data into books table\n",
    "INSERT INTO books (title, author, price, stock) VALUES\n",
    "('Book A', 'Author A', 10.00, 100),\n",
    "('Book B', 'Author B', 15.00, 50);\n",
    "\n",
    "-- Step 5: Insert sample data into sales table\n",
    "INSERT INTO sales (book_id, quantity, sale_date) VALUES\n",
    "(1, 10, '2021-01-01 00:00:00'::timestamp + (RANDOM() * (INTERVAL '1 day'))),\n",
    "(2, 5, '2021-01-02 00:00:00'::timestamp + (RANDOM() * (INTERVAL '1 day')));"
   ]
  },
  {
   "cell_type": "code",
   "execution_count": null,
   "metadata": {
    "vscode": {
     "languageId": "sql"
    }
   },
   "outputs": [],
   "source": [
    "%%sql\n",
    "SELECT * FROM books;"
   ]
  },
  {
   "cell_type": "code",
   "execution_count": null,
   "metadata": {
    "vscode": {
     "languageId": "sql"
    }
   },
   "outputs": [],
   "source": [
    "%%sql\n",
    "SELECT * FROM sales;"
   ]
  },
  {
   "cell_type": "markdown",
   "metadata": {},
   "source": [
    "\n",
    "### Task\n",
    "Imagine a customer will order Book A\n",
    "\n",
    "Create a transaction that performs the following operations:\n",
    "1. Declare a variable to store the `current_stock` and `order_quantity` with INT data type. Set order_quantity to 20\n",
    "2. If the `current_stock` is larger or equal than the `order_quantity` then do the following:\n",
    "   1. Insert a new sale record into the `sales` table. Use NOW() as the sale_date\n",
    "   2. Update the stock of the sold book in the `books` table.\n",
    "   3. Commit the transaction.\n",
    "3. Otherwise, roll back the transaction.\n",
    "\n",
    "\n",
    "\n"
   ]
  },
  {
   "cell_type": "raw",
   "metadata": {
    "vscode": {
     "languageId": "raw"
    }
   },
   "source": [
    "# BEGIN SOLUTION"
   ]
  },
  {
   "cell_type": "code",
   "execution_count": null,
   "metadata": {
    "vscode": {
     "languageId": "sql"
    }
   },
   "outputs": [],
   "source": [
    "# BEGIN SOLUTION\n",
    "%%sql\n",
    "\n",
    "-- Step 5: Begin the transaction\n",
    "BEGIN;\n",
    "\n",
    "-- Step 6: Declare variables to store the current stock and order quantity\n",
    "DO $$\n",
    "DECLARE\n",
    "    current_stock INT;\n",
    "    order_quantity INT := 20;  -- Set the order quantity here\n",
    "BEGIN\n",
    "\n",
    "-- Step 7: Check if there is enough stock for the sale\n",
    "SELECT stock INTO current_stock\n",
    "FROM books\n",
    "WHERE book_id = 1;\n",
    "\n",
    "IF current_stock >= order_quantity THEN\n",
    "    -- Step 8: Insert a new sale record into the sales table\n",
    "    INSERT INTO sales (book_id, quantity, sale_date)\n",
    "    VALUES (1, order_quantity, NOW());\n",
    "\n",
    "    -- Step 9: Update the stock of the sold book in the books table\n",
    "    UPDATE books\n",
    "    SET stock = stock - order_quantity\n",
    "    WHERE book_id = 1;\n",
    "\n",
    "    -- Commit the transaction\n",
    "    COMMIT;\n",
    "ELSE\n",
    "    -- Rollback the transaction due to insufficient stock\n",
    "    ROLLBACK;\n",
    "END IF;\n",
    "\n",
    "END $$;\n",
    "# END SOLUTION"
   ]
  },
  {
   "cell_type": "raw",
   "metadata": {
    "vscode": {
     "languageId": "raw"
    }
   },
   "source": [
    "# END SOLUTION"
   ]
  },
  {
   "cell_type": "markdown",
   "metadata": {},
   "source": [
    "Check if the transaction was successful"
   ]
  },
  {
   "cell_type": "code",
   "execution_count": null,
   "metadata": {
    "vscode": {
     "languageId": "sql"
    }
   },
   "outputs": [],
   "source": [
    "%%sql\n",
    "SELECT * FROM books;"
   ]
  },
  {
   "cell_type": "code",
   "execution_count": null,
   "metadata": {
    "vscode": {
     "languageId": "sql"
    }
   },
   "outputs": [],
   "source": [
    "%%sql\n",
    "SELECT * FROM sales;"
   ]
  },
  {
   "cell_type": "markdown",
   "metadata": {},
   "source": [
    "Now try to set the order quantity to 2000 and run the code, it should roll back the transaction and nothing changes"
   ]
  },
  {
   "cell_type": "raw",
   "metadata": {
    "vscode": {
     "languageId": "raw"
    }
   },
   "source": [
    "# END QUESTION"
   ]
  },
  {
   "cell_type": "raw",
   "metadata": {
    "vscode": {
     "languageId": "raw"
    }
   },
   "source": [
    "# BEGIN QUESTION\n",
    "name: q2\n",
    "manual: true"
   ]
  },
  {
   "cell_type": "markdown",
   "metadata": {},
   "source": [
    "### Exercise 2: Using JOINs with the DVD Rental Database\n",
    "\n",
    "rubric: {accuracy = 30}\n"
   ]
  },
  {
   "cell_type": "markdown",
   "metadata": {},
   "source": [
    "You are working with the DVD Rental database and need to retrieve information about customers, their rentals, and the films they have rented. You will use different types of JOINs to combine data from multiple tables.\n"
   ]
  },
  {
   "cell_type": "markdown",
   "metadata": {},
   "source": [
    "\n",
    "### Tasks\n",
    "\n",
    "#### 1. Inner Join\n",
    "Retrieve a list of customers and the titles of the films they have rented. For this task, you might need to `INNER JOIN` multiple tables (customer, rental, inventory, film)\n",
    "\n",
    "Expected output:\n",
    "\n",
    "| first_name | last_name |         title |\n",
    "|-----------:|----------:|--------------:|\n",
    "|      Tommy |   Collazo |  Freaky Pocus |\n",
    "|     Manuel |   Murrell | Graduate Lord |\n",
    "|     Andrew |     Purdy | Love Suicides |\n",
    "...\n"
   ]
  },
  {
   "cell_type": "raw",
   "metadata": {},
   "source": [
    "# BEGIN SOLUTION"
   ]
  },
  {
   "cell_type": "code",
   "execution_count": null,
   "metadata": {
    "vscode": {
     "languageId": "sql"
    }
   },
   "outputs": [],
   "source": [
    "# BEGIN SOLUTION\n",
    "%%sql\n",
    "SELECT \n",
    "    c.first_name, \n",
    "    c.last_name, \n",
    "    f.title\n",
    "FROM \n",
    "    customer c\n",
    "INNER JOIN \n",
    "    rental r ON c.customer_id = r.customer_id\n",
    "INNER JOIN \n",
    "    inventory i ON r.inventory_id = i.inventory_id\n",
    "INNER JOIN \n",
    "    film f ON i.film_id = f.film_id;\n",
    "# END SOLUTION"
   ]
  },
  {
   "cell_type": "raw",
   "metadata": {
    "vscode": {
     "languageId": "raw"
    }
   },
   "source": [
    "# END SOLUTION"
   ]
  },
  {
   "cell_type": "markdown",
   "metadata": {},
   "source": [
    "\n",
    "\n",
    "#### 2. Left Join\n",
    "Retrieve Customer Payment Information: Use a `LEFT JOIN` to retrieve a list of all customers and their payment amounts. Include customers who have not made any payments.\n",
    "\n",
    "You will need to use tables `customer` and `payment` for this question\n",
    "\n",
    "Expected output:\n",
    "\n",
    "| customer_id | first_name | last_name | payment_amount |\n",
    "|------------:|-----------:|----------:|---------------:|\n",
    "|         341 |      Peter |    Menard |           7.99 |\n",
    "|         341 |      Peter |    Menard |           1.99 |\n",
    "|         341 |      Peter |    Menard |           7.99 |\n",
    "...\n"
   ]
  },
  {
   "cell_type": "raw",
   "metadata": {},
   "source": [
    "# BEGIN SOLUTION"
   ]
  },
  {
   "cell_type": "code",
   "execution_count": null,
   "metadata": {
    "vscode": {
     "languageId": "sql"
    }
   },
   "outputs": [],
   "source": [
    "# BEGIN SOLUTION\n",
    "%%sql\n",
    "SELECT \n",
    "    c.customer_id,\n",
    "    c.first_name, \n",
    "    c.last_name, \n",
    "    p.amount AS payment_amount\n",
    "FROM \n",
    "    customer c\n",
    "LEFT JOIN \n",
    "    payment p ON c.customer_id = p.customer_id\n",
    "ORDER BY \n",
    "    c.customer_id;\n",
    "# END SOLUTION"
   ]
  },
  {
   "cell_type": "raw",
   "metadata": {
    "vscode": {
     "languageId": "raw"
    }
   },
   "source": [
    "# END SOLUTION"
   ]
  },
  {
   "cell_type": "markdown",
   "metadata": {},
   "source": [
    "\n",
    "#### 3. Inner join\n",
    " \n",
    "Retrieve a list of all customers and staff members, rental_id, and rental_date. Sort the result in descending order by rental_date\n",
    "\n",
    "You will need to use 3 tables: `customer`, `rental`, `staff`\n",
    "\n",
    "Expected output:\n",
    "\n",
    "| customer_first_name | customer_last_name | staff_first_name | staff_last_name |         rental_date | rental_id |\n",
    "|--------------------:|-------------------:|-----------------:|----------------:|--------------------:|----------:|\n",
    "|               Louis |              Leone |              Jon |        Stephens | 2006-02-14 15:16:03 |     11739 |\n",
    "|                Neil |             Renner |             Mike |         Hillyer | 2006-02-14 15:16:03 |     14616 |\n",
    "|             Natalie |              Meyer |              Jon |        Stephens | 2006-02-14 15:16:03 |     11676 |\n",
    "...\n"
   ]
  },
  {
   "cell_type": "raw",
   "metadata": {},
   "source": [
    "# BEGIN SOLUTION"
   ]
  },
  {
   "cell_type": "code",
   "execution_count": null,
   "metadata": {
    "vscode": {
     "languageId": "sql"
    }
   },
   "outputs": [],
   "source": [
    "# BEGIN SOLUTION\n",
    "%%sql\n",
    "SELECT \n",
    "    c.first_name AS customer_first_name, \n",
    "    c.last_name AS customer_last_name, \n",
    "    s.first_name AS staff_first_name, \n",
    "    s.last_name AS staff_last_name,\n",
    "    r.rental_date,\n",
    "    r.rental_id\n",
    "FROM \n",
    "    customer c\n",
    "INNER JOIN \n",
    "    rental r ON c.customer_id = r.customer_id\n",
    "INNER JOIN \n",
    "    staff s ON r.staff_id = s.staff_id\n",
    "ORDER BY \n",
    "    r.rental_date DESC;\n",
    "# END SOLUTION"
   ]
  },
  {
   "cell_type": "raw",
   "metadata": {},
   "source": [
    "# END SOLUTION"
   ]
  },
  {
   "cell_type": "raw",
   "metadata": {},
   "source": [
    "# END QUESTION"
   ]
  },
  {
   "cell_type": "raw",
   "metadata": {
    "vscode": {
     "languageId": "raw"
    }
   },
   "source": [
    "# BEGIN QUESTION\n",
    "name: q3\n",
    "manual: true"
   ]
  },
  {
   "cell_type": "markdown",
   "metadata": {},
   "source": [
    "### Exercise 3: Using GROUP BY and JOIN with the DVD Rental Database\n",
    "\n",
    "rubric: {accuracy = 10}\n",
    "\n",
    "In this exercise, you will learn how to use the `GROUP BY` clause in combination with `JOIN` to query data from the DVD Rental database.\n",
    "\n",
    "#### Scenario\n",
    "You are working with the DVD Rental database and need to retrieve information about the **total amount spent by each customer on rentals**. Specifically, you want to list each customer along with the total amount they have spent.\n",
    "\n",
    "#### Task\n",
    "1. **Retrieve Customer Spending Information**: Use a `JOIN` to combine data from the `customer` and `payment` tables.\n",
    "2. **Group By Customer**: Use the `GROUP BY` clause to calculate the total amount spent by each customer.\n",
    "\n",
    "\n",
    "\n"
   ]
  },
  {
   "cell_type": "raw",
   "metadata": {},
   "source": [
    "# BEGIN SOLUTION"
   ]
  },
  {
   "cell_type": "code",
   "execution_count": null,
   "metadata": {
    "vscode": {
     "languageId": "sql"
    }
   },
   "outputs": [],
   "source": [
    "# BEGIN SOLUTION\n",
    "%%sql\n",
    "SELECT \n",
    "    c.customer_id,\n",
    "    c.first_name, \n",
    "    c.last_name, \n",
    "    SUM(p.amount) AS total_spent\n",
    "FROM \n",
    "    customer c\n",
    "JOIN \n",
    "    payment p ON c.customer_id = p.customer_id\n",
    "GROUP BY \n",
    "    c.customer_id, c.first_name, c.last_name\n",
    "ORDER BY \n",
    "    total_spent DESC;\n",
    "# END SOLUTION"
   ]
  },
  {
   "cell_type": "raw",
   "metadata": {},
   "source": [
    "# END SOLUTION"
   ]
  },
  {
   "cell_type": "raw",
   "metadata": {},
   "source": [
    "# END QUESTION"
   ]
  },
  {
   "cell_type": "raw",
   "metadata": {
    "vscode": {
     "languageId": "raw"
    }
   },
   "source": [
    "# BEGIN QUESTION\n",
    "name: q4\n",
    "manual: true"
   ]
  },
  {
   "cell_type": "markdown",
   "metadata": {},
   "source": [
    "### Exercise 4: Using JOIN, GROUP BY, WHERE, and HAVING with the DVD Rental Database\n",
    "\n",
    "rubric: {accuracy = 20}\n",
    "\n",
    "#### Scenario\n",
    "You are working with the DVD Rental database and need to retrieve information about customers who have spent more than a certain amount on rentals. Specifically, you want to **list each customer along with the total amount they have spent between '2007-02-01' AND '2007-03-01', but only include customers who have spent more than $30**.\n",
    "\n",
    "#### Task\n",
    "\n",
    "- Retrieve Customer Spending Information: Use a `JOIN` to combine data from the `customer` and `payment` tables.\n",
    "- Filter by Date: Use the `WHERE` clause to filter `payments` made between '2007-02-01' and '2007-03-01'.\n",
    "- Group By Customer: Use the `GROUP BY` clause to calculate the total amount spent by each customer.\n",
    "- Filter by Total Spent: Use the `HAVING` clause to include only customers who have spent more than $30.\n",
    "- Order by total spent in descending order\n",
    "\n"
   ]
  },
  {
   "cell_type": "markdown",
   "metadata": {},
   "source": [
    "Expected output:\n",
    "\n",
    "| customer_id | first_name | last_name | total_spent |\n",
    "|------------:|-----------:|----------:|------------:|\n",
    "|         454 |       Alex |   Gresham |       52.90 |\n",
    "|         178 |     Marion |    Snyder |       44.92 |\n",
    "|         176 |       June |   Carroll |       42.92 |\n",
    "|          26 |    Jessica |      Hall |       41.93 |\n",
    "..."
   ]
  },
  {
   "cell_type": "raw",
   "metadata": {},
   "source": [
    "# BEGIN SOLUTION"
   ]
  },
  {
   "cell_type": "code",
   "execution_count": null,
   "metadata": {
    "vscode": {
     "languageId": "sql"
    }
   },
   "outputs": [],
   "source": [
    "# BEGIN SOLUTION\n",
    "%%sql\n",
    "SELECT \n",
    "    c.customer_id,\n",
    "    c.first_name, \n",
    "    c.last_name, \n",
    "    SUM(p.amount) AS total_spent\n",
    "FROM \n",
    "    customer c\n",
    "JOIN \n",
    "    payment p ON c.customer_id = p.customer_id\n",
    "WHERE \n",
    "    p.payment_date BETWEEN '2007-02-01' AND '2007-03-01'\n",
    "GROUP BY \n",
    "    c.customer_id, c.first_name, c.last_name\n",
    "HAVING \n",
    "    SUM(p.amount) > 30\n",
    "ORDER BY \n",
    "    total_spent DESC;\n",
    "# END SOLUTION"
   ]
  },
  {
   "cell_type": "raw",
   "metadata": {},
   "source": [
    "# END SOLUTION"
   ]
  },
  {
   "cell_type": "raw",
   "metadata": {},
   "source": [
    "# END QUESTION"
   ]
  },
  {
   "cell_type": "raw",
   "metadata": {
    "vscode": {
     "languageId": "raw"
    }
   },
   "source": [
    "# BEGIN QUESTION\n",
    "name: q5\n",
    "manual: true"
   ]
  },
  {
   "cell_type": "markdown",
   "metadata": {},
   "source": [
    "## Exercise 5: Using Subqueries with the DVD Rental Database\n",
    "\n",
    "rubric: {accuracy = 20}"
   ]
  },
  {
   "cell_type": "markdown",
   "metadata": {},
   "source": [
    "### 5.1: Find Customers with No Rentals in a Specific Period\n",
    "\n",
    "#### Task\n",
    "Retrieve a list of customers who **did NOT** make any rentals within the specified date range ('2007-02-01' AND '2007-03-01'). Sort the result by `customer_id`\n",
    "\n",
    "You will need to use `customer` and `rental` table\n",
    "\n",
    "Hint: Use `NOT IN`\n",
    "\n",
    "Expected output:\n",
    "\n",
    "| customer_id | first_name | last_name |\n",
    "|------------:|-----------:|----------:|\n",
    "|           1 |       Mary |     Smith |\n",
    "|           2 |   Patricia |   Johnson |\n",
    "|           3 |      Linda |  Williams |\n",
    "..."
   ]
  },
  {
   "cell_type": "raw",
   "metadata": {},
   "source": [
    "# BEGIN SOLUTION"
   ]
  },
  {
   "cell_type": "code",
   "execution_count": null,
   "metadata": {
    "vscode": {
     "languageId": "sql"
    }
   },
   "outputs": [],
   "source": [
    "# BEGIN SOLUTION\n",
    "%%sql\n",
    "SELECT \n",
    "    c.customer_id,\n",
    "    c.first_name, \n",
    "    c.last_name\n",
    "FROM \n",
    "    customer c\n",
    "WHERE \n",
    "    c.customer_id NOT IN (\n",
    "        SELECT \n",
    "            r.customer_id\n",
    "        FROM \n",
    "            rental r\n",
    "        WHERE \n",
    "            r.rental_date BETWEEN '2007-02-01' AND '2007-03-01'\n",
    "    )\n",
    "ORDER BY \n",
    "    c.customer_id;\n",
    "# END SOLUTION"
   ]
  },
  {
   "cell_type": "raw",
   "metadata": {
    "vscode": {
     "languageId": "raw"
    }
   },
   "source": [
    "# END SOLUTION"
   ]
  },
  {
   "cell_type": "markdown",
   "metadata": {},
   "source": [
    "### 5.2: Find Customers with More Than Average Spending\n",
    "\n",
    "#### Task\n",
    "Retrieve a list of customers who have **total spending** less than the **average total amount spent** by all customers. Sort the result by total spending in descending order.\n",
    "\n",
    "You will need to use the `customer` and `payment` table\n",
    "\n",
    "Expected output:\n",
    "\n",
    "| customer_id | first_name | last_name | total_spent |\n",
    "|------------:|-----------:|----------:|------------:|\n",
    "|          44 |      Marie |    Turner |      101.79 |\n",
    "|         466 |        Leo |     Ebert |      101.78 |\n",
    "|         100 |      Robin |     Hayes |      101.77 |\n",
    "|         593 |       Rene | Mcalister |      101.76 |\n",
    "..."
   ]
  },
  {
   "cell_type": "raw",
   "metadata": {},
   "source": [
    "# BEGIN SOLUTION"
   ]
  },
  {
   "cell_type": "code",
   "execution_count": null,
   "metadata": {
    "vscode": {
     "languageId": "sql"
    }
   },
   "outputs": [],
   "source": [
    "# BEGIN SOLUTION\n",
    "%%sql\n",
    "SELECT \n",
    "    c.customer_id,\n",
    "    c.first_name, \n",
    "    c.last_name, \n",
    "    SUM(p.amount) AS total_spent\n",
    "FROM \n",
    "    customer c\n",
    "JOIN \n",
    "    payment p ON c.customer_id = p.customer_id\n",
    "GROUP BY \n",
    "    c.customer_id, c.first_name, c.last_name\n",
    "HAVING \n",
    "    SUM(p.amount) < (\n",
    "        SELECT \n",
    "            AVG(total_spent)\n",
    "        FROM \n",
    "            (\n",
    "                SELECT \n",
    "                    SUM(p.amount) AS total_spent\n",
    "                FROM \n",
    "                    payment p\n",
    "                GROUP BY \n",
    "                    p.customer_id\n",
    "            ) AS avg_spending\n",
    "    )\n",
    "ORDER BY \n",
    "    total_spent DESC;\n",
    "# END SOLUTION"
   ]
  },
  {
   "cell_type": "raw",
   "metadata": {},
   "source": [
    "# END SOLUTION"
   ]
  },
  {
   "cell_type": "raw",
   "metadata": {},
   "source": [
    "# END QUESTION"
   ]
  },
  {
   "cell_type": "markdown",
   "metadata": {},
   "source": [
    "## Submission instructions\n",
    "\n",
    "{rubric: mechanics = 5}\n",
    "\n",
    "- Make sure the notebook can run from top to bottom without any error. Restart the kernel and run all cells.\n",
    "- Commit and push your notebook to the github repo\n",
    "- Double check your notebook is rendered properly on Github and you can see all the outputs clearly\n",
    "- Submit URL of your Github repo to Moodle"
   ]
  }
 ],
 "metadata": {
  "kernelspec": {
   "display_name": "dasc_5410",
   "language": "python",
   "name": "python3"
  },
  "language_info": {
   "codemirror_mode": {
    "name": "ipython",
    "version": 3
   },
   "file_extension": ".py",
   "mimetype": "text/x-python",
   "name": "python",
   "nbconvert_exporter": "python",
   "pygments_lexer": "ipython3",
   "version": "3.11.9"
  }
 },
 "nbformat": 4,
 "nbformat_minor": 2
}
