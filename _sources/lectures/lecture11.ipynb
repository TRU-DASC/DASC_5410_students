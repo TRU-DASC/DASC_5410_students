{
 "cells": [
  {
   "cell_type": "markdown",
   "metadata": {},
   "source": [
    "# Lecture 11: Introduction to Non-Relational Databases\n"
   ]
  },
  {
   "cell_type": "markdown",
   "metadata": {},
   "source": [
    "## Learning objectives\n",
    "\n",
    "By the end of this lecture, students should be able to:\n",
    "- Understand how relational and non-relational database differ in terms of data structure, schema, and query language.\n",
    "- Explain the pros & cons of each type of database and its use case\n",
    "- Explain different types of non-relational databases (i.e., column-base, key-pair, graph, document)\n"
   ]
  },
  {
   "cell_type": "markdown",
   "metadata": {},
   "source": [
    "## Readings\n",
    "\n",
    "- [Introduction to noSQL database](https://www.mongodb.com/resources/basics/databases/nosql-explained)                              \n",
    "- [Introduction to MongoDB and the document model](https://www.mongodb.com/docs/manual/introduction/)   "
   ]
  },
  {
   "cell_type": "markdown",
   "metadata": {},
   "source": [
    "## Slides\n"
   ]
  },
  {
   "cell_type": "markdown",
   "metadata": {},
   "source": [
    "<iframe src=\"https://docs.google.com/presentation/d/e/2PACX-1vRGXxd3pi_3D_vMf-wE1cfSsrfiYb7uCZuWVN-qlXc7l3FTN1IYFFZukOOUkT5Dac0SO-sRLuRyD8a5/embed?start=false&loop=false&delayms=60000\" frameborder=\"0\" width=\"960\" height=\"569\" allowfullscreen=\"true\" mozallowfullscreen=\"true\" webkitallowfullscreen=\"true\"></iframe>"
   ]
  },
  {
   "cell_type": "markdown",
   "metadata": {},
   "source": [
    "\n",
    "```{note}\n",
    "Download a PDF version [here](https://docs.google.com/presentation/d/1EbdjDO2sa6SiuJVtOmQSQcXRFPXKgDniAW35pcgjpFE/export/pdf)\n",
    "```"
   ]
  },
  {
   "cell_type": "markdown",
   "metadata": {},
   "source": [
    "## Supplemental materials\n",
    "\n",
    "### Key differences between relational and non-relational databases\n",
    "\n",
    "|        Feature       |                       SQL Databases (Relational)                      |                            NoSQL Databases (Non-Relational)                           |\n",
    "|:--------------------:|:---------------------------------------------------------------------:|:-------------------------------------------------------------------------------------:|\n",
    "| Data Model           | Structured data with predefined schema (tables, rows, columns)        | Flexible schema, supports unstructured and semi-structured data                       |\n",
    "| Schema Flexibility   | Rigid schema, requires predefined structure                           | Schema-less, allowing for dynamic and flexible data models                            |\n",
    "| Scalability          | Vertical scaling (scaling up by adding more power to a single server) | Horizontal scaling (scaling out by adding more servers)                               |\n",
    "| ACID Compliance      | Strong ACID (Atomicity, Consistency, Isolation, Durability) support   | Often favors eventual consistency over strong ACID compliance                         |\n",
    "| Performance          | Efficient for complex queries and transactions                        | Optimized for high-volume reads/writes and specific use cases                         |\n",
    "| Querying             | Powerful and standardized SQL for complex queries                     | Varies by database type; may require custom query languages                           |\n",
    "| Data Relationships   | Strong support for complex joins and relationships                    | Limited or no support for complex joins, relationships are embedded or linked         |\n",
    "| Data Integrity       | Enforces data integrity through constraints and normalization         | Data integrity is managed by the application, denormalization is common               |\n",
    "| Use Case Suitability | Best for structured data, complex transactions, and relationships     | Best for big data, real-time analytics, unstructured data, and high scalability needs |\n",
    "| Maintenance          | Requires more maintenance (e.g., schema changes, indexing, tuning)    | Generally requires less maintenance, but can be complex in distributed systems        |\n",
    "| Learning Curve       | Standardized and well-documented; widely taught                       | Diverse models with a steeper learning curve due to lack of standardization           |\n",
    "| Ecosystem            | Mature ecosystem with a wide range of tools and support               | Emerging ecosystem, tools and support vary by database type                           |\n",
    "| Cost                 | Can be expensive at scale due to the need for powerful hardware       | Cost-effective for large-scale systems, often runs on commodity hardware              |\n",
    "| Examples             | MySQL, PostgreSQL, Oracle, SQL Server                                 | MongoDB, Cassandra, Redis, Neo4j                                                      |"
   ]
  },
  {
   "cell_type": "markdown",
   "metadata": {},
   "source": [
    "### Different types of non-relational databases and their features\n",
    "\n",
    "| **Type**        | **Description**                                               | **Features**                                                                                      | **Key Usage**                                  | **Examples**                      |\n",
    "|-----------------|---------------------------------------------------------------|--------------------------------------------------------------------------------------------------|------------------------------------------------|----------------------------------|\n",
    "| **Document Store** | Stores data in documents (typically JSON or BSON format).    | Flexible schema, hierarchical data structures, supports nested data.                             | Content management, user profiles, catalogs.   | MongoDB, CouchDB, Firebase Firestore |\n",
    "| **Key-Value Store** | Stores data as key-value pairs.                              | Simple data model, high performance for lookups by key, easy to scale horizontally.               | Session management, caching, real-time data.    | Redis, DynamoDB, Riak            |\n",
    "| **Column Family Store** | Stores data in columns rather than rows.                    | Optimized for read and write performance on large datasets, supports flexible column families.    | Time-series data, analytics, real-time big data. | Apache Cassandra, HBase, ScyllaDB |\n",
    "| **Graph Database**   | Stores data as nodes and edges in a graph structure.         | Optimized for relationships and connections, supports complex queries on graph data.              | Social networks, recommendation systems, fraud detection. | Neo4j, ArangoDB, Amazon Neptune   |"
   ]
  },
  {
   "cell_type": "markdown",
   "metadata": {},
   "source": [
    "\n",
    "### Demo of connecting to a MongDB via pymongo"
   ]
  },
  {
   "cell_type": "markdown",
   "metadata": {},
   "source": [
    "\n",
    "```{warning}\n",
    "You would need to create a separate json file to securely store your MongoDB username and password.\n",
    "\n",
    "Make sure these information are not uploaded to any public server, that means DO NOT commit this `credentials.json` file. I have disabled the ability to commit this file by default in the .gitignore settings.\n",
    "\n",
    "The json file should follow the template below:\n",
    "```python\n",
    "{\n",
    "  \"host\": \"<your_host>\",\n",
    "  \"port\": 27017,\n",
    "  \"username\": \"<your_username>\",\n",
    "  \"password\": \"<your_password>\"\n",
    "}\n",
    "```"
   ]
  },
  {
   "cell_type": "markdown",
   "metadata": {},
   "source": [
    "Below is the starter code to connect to your MongoDB database, provided that you have created a `credentials.json` file with the correct information."
   ]
  },
  {
   "cell_type": "code",
   "execution_count": null,
   "metadata": {},
   "outputs": [],
   "source": [
    "from pymongo import MongoClient # import mongo client to connect\n",
    "import json # import json to load credentials\n",
    "import urllib.parse\n",
    "\n",
    "# load credentials from json file\n",
    "with open('credentials.json') as f:\n",
    "    login = json.load(f)\n",
    "\n",
    "# assign credentials to variables\n",
    "username = login['username']\n",
    "password = urllib.parse.quote(login['password'])\n",
    "host = login['host']\n",
    "url = \"mongodb+srv://{}:{}@{}/?retryWrites=true&w=majority\".format(username, password, host)"
   ]
  },
  {
   "cell_type": "code",
   "execution_count": null,
   "metadata": {},
   "outputs": [],
   "source": [
    "# connect to the database\n",
    "client = MongoClient(url)"
   ]
  },
  {
   "cell_type": "markdown",
   "metadata": {},
   "source": [
    "List all db names collections"
   ]
  },
  {
   "cell_type": "code",
   "execution_count": null,
   "metadata": {},
   "outputs": [
    {
     "data": {
      "text/plain": [
       "['sample_airbnb',\n",
       " 'sample_analytics',\n",
       " 'sample_geospatial',\n",
       " 'sample_guides',\n",
       " 'sample_mflix',\n",
       " 'sample_restaurants',\n",
       " 'sample_supplies',\n",
       " 'sample_training',\n",
       " 'sample_weatherdata',\n",
       " 'admin',\n",
       " 'local']"
      ]
     },
     "metadata": {},
     "output_type": "display_data"
    }
   ],
   "source": [
    "# list all databases\n",
    "client.list_database_names()"
   ]
  },
  {
   "cell_type": "code",
   "execution_count": null,
   "metadata": {},
   "outputs": [
    {
     "data": {
      "text/plain": [
       "['comments', 'sessions', 'movies', 'theaters', 'users', 'embedded_movies']"
      ]
     },
     "metadata": {},
     "output_type": "display_data"
    }
   ],
   "source": [
    "# list all collections in the sample_mflix database\n",
    "client.sample_mflix.list_collection_names()"
   ]
  },
  {
   "cell_type": "code",
   "execution_count": null,
   "metadata": {},
   "outputs": [
    {
     "data": {
      "text/plain": [
       "{'_id': ObjectId('573a1390f29313caabcd50e5'),\n",
       " 'plot': 'The cartoonist, Winsor McCay, brings the Dinosaurus back to life in the figure of his latest creation, Gertie the Dinosaur.',\n",
       " 'genres': ['Animation', 'Short', 'Comedy'],\n",
       " 'runtime': 12,\n",
       " 'cast': ['Winsor McCay', 'George McManus', 'Roy L. McCardell'],\n",
       " 'num_mflix_comments': 0,\n",
       " 'poster': 'https://m.media-amazon.com/images/M/MV5BMTQxNzI4ODQ3NF5BMl5BanBnXkFtZTgwNzY5NzMwMjE@._V1_SY1000_SX677_AL_.jpg',\n",
       " 'title': 'Gertie the Dinosaur',\n",
       " 'fullplot': 'Winsor Z. McCay bets another cartoonist that he can animate a dinosaur. So he draws a big friendly herbivore called Gertie. Then he get into his own picture. Gertie walks through the picture, eats a tree, meets her creator, and takes him carefully on her back for a ride.',\n",
       " 'languages': ['English'],\n",
       " 'released': datetime.datetime(1914, 9, 15, 0, 0),\n",
       " 'directors': ['Winsor McCay'],\n",
       " 'writers': ['Winsor McCay'],\n",
       " 'awards': {'wins': 1, 'nominations': 0, 'text': '1 win.'},\n",
       " 'lastupdated': '2015-08-18 01:03:15.313000000',\n",
       " 'year': 1914,\n",
       " 'imdb': {'rating': 7.3, 'votes': 1837, 'id': 4008},\n",
       " 'countries': ['USA'],\n",
       " 'type': 'movie',\n",
       " 'tomatoes': {'viewer': {'rating': 3.7, 'numReviews': 29},\n",
       "  'lastUpdated': datetime.datetime(2015, 8, 10, 19, 20, 3)}}"
      ]
     },
     "metadata": {},
     "output_type": "display_data"
    }
   ],
   "source": [
    "# show the first document\n",
    "client.sample_mflix.movies.find_one()"
   ]
  },
  {
   "cell_type": "code",
   "execution_count": null,
   "metadata": {},
   "outputs": [
    {
     "data": {
      "text/plain": [
       "dict_keys(['_id', 'plot', 'genres', 'runtime', 'cast', 'num_mflix_comments', 'poster', 'title', 'fullplot', 'languages', 'released', 'directors', 'writers', 'awards', 'lastupdated', 'year', 'imdb', 'countries', 'type', 'tomatoes'])"
      ]
     },
     "metadata": {},
     "output_type": "display_data"
    }
   ],
   "source": [
    "# list all keys in the first document\n",
    "keys_all = client.sample_mflix.movies.find_one().keys()\n",
    "keys_all"
   ]
  }
 ],
 "metadata": {
  "kernelspec": {
   "display_name": "adsc_3610",
   "language": "python",
   "name": "python3"
  },
  "language_info": {
   "codemirror_mode": {
    "name": "ipython",
    "version": 3
   },
   "file_extension": ".py",
   "mimetype": "text/x-python",
   "name": "python",
   "nbconvert_exporter": "python",
   "pygments_lexer": "ipython3",
   "version": "3.12.5"
  }
 },
 "nbformat": 4,
 "nbformat_minor": 2
}
