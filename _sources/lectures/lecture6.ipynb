{
 "cells": [
  {
   "cell_type": "markdown",
   "metadata": {},
   "source": [
    "# Lecture 6: PostgreSQL part 3"
   ]
  },
  {
   "cell_type": "markdown",
   "metadata": {},
   "source": [
    "## Introduction\n",
    "SQL (Structured Query Language) is a powerful language used for managing and manipulating relational databases. It consists of five main components:\n",
    "\n",
    "1. **DDL (Data Definition Language)**:\n",
    "   - Used for defining and modifying database structures.\n",
    "   - Examples: `CREATE`, `ALTER`, `DROP`.\n",
    "\n",
    "2. **DQL (Data Query Language)**:\n",
    "   - Used for querying data from the database.\n",
    "   - Example: `SELECT`.\n",
    "\n",
    "3. **DML (Data Manipulation Language)**:\n",
    "   - Used for manipulating data within the database.\n",
    "   - Examples: `INSERT`, `UPDATE`, `DELETE`.\n",
    "\n",
    "4. **DCL (Data Control Language)**:\n",
    "   - Used for controlling access to data within the database.\n",
    "   - Examples: `GRANT`, `REVOKE`.\n",
    "\n",
    "5. **TCL (Transaction Control Language)**:\n",
    "   - Used for managing transactions within the database.\n",
    "   - Examples: `COMMIT`, `ROLLBACK`.\n",
    "\n",
    "Today, we will focus on **DML (Data Manipulation Language)**, specifically on how to insert, modify, and delete rows in SQL.\n"
   ]
  },
  {
   "cell_type": "markdown",
   "metadata": {},
   "source": [
    "\n",
    "## Learning Objectives\n",
    "- Understand how to insert rows into a table using various methods, including by column position, column name, multiple rows at once, and from another table.\n",
    "- Learn how to safely modify existing rows using the `UPDATE` statement, including best practices to avoid accidental modifications.\n",
    "- Gain knowledge on how to delete rows using the `DELETE` statement, truncate a table using the `TRUNCATE` statement, and return data from `INSERT`, `UPDATE`, and `DELETE` operations using the `RETURNING` clause.\n",
    "\n"
   ]
  },
  {
   "cell_type": "markdown",
   "metadata": {},
   "source": [
    "## Connect to database"
   ]
  },
  {
   "cell_type": "markdown",
   "metadata": {},
   "source": [
    "> Make sure you edit the `credentials.json` file with appropriate username and password as in worksheet1"
   ]
  },
  {
   "cell_type": "code",
   "execution_count": null,
   "metadata": {},
   "outputs": [],
   "source": [
    "# load the ipython-sql extension\n",
    "%load_ext sql\n",
    "\n",
    "import json\n",
    "import urllib.parse\n",
    "\n",
    "with open('data/credentials.json') as f:\n",
    "    login = json.load(f)\n",
    "    \n",
    "username = login['user']\n",
    "password = urllib.parse.quote(login['password'])\n",
    "host = login['host']\n",
    "port = login['port']"
   ]
  },
  {
   "cell_type": "markdown",
   "metadata": {},
   "source": [
    "Let's connect to your dvdrental database"
   ]
  },
  {
   "cell_type": "code",
   "execution_count": null,
   "metadata": {},
   "outputs": [],
   "source": [
    "%sql postgresql://{username}:{password}@{host}:{port}/dvdrental"
   ]
  },
  {
   "cell_type": "code",
   "execution_count": null,
   "metadata": {
    "vscode": {
     "languageId": "sql"
    }
   },
   "outputs": [],
   "source": [
    "%%sql\n",
    "DROP TABLE IF EXISTS employees;"
   ]
  },
  {
   "cell_type": "markdown",
   "metadata": {},
   "source": [
    "\n",
    "\n",
    "#### Sample Table\n",
    "Let's create a sample table named `employees`:\n"
   ]
  },
  {
   "cell_type": "code",
   "execution_count": null,
   "metadata": {
    "vscode": {
     "languageId": "sql"
    }
   },
   "outputs": [],
   "source": [
    "%%sql\n",
    "CREATE TABLE employees (\n",
    "    id SERIAL PRIMARY KEY,\n",
    "    first_name VARCHAR(50),\n",
    "    last_name VARCHAR(50),\n",
    "    age INT,\n",
    "    department VARCHAR(50)\n",
    ");"
   ]
  },
  {
   "cell_type": "code",
   "execution_count": null,
   "metadata": {
    "vscode": {
     "languageId": "sql"
    }
   },
   "outputs": [],
   "source": [
    "%%sql\n",
    "SELECT * FROM employees;"
   ]
  },
  {
   "cell_type": "markdown",
   "metadata": {},
   "source": [
    "## Inserting Rows\n",
    "\n",
    "### Insert by Column Position\n",
    "To insert a row by specifying values in the order of columns:\n"
   ]
  },
  {
   "cell_type": "code",
   "execution_count": null,
   "metadata": {
    "vscode": {
     "languageId": "sql"
    }
   },
   "outputs": [],
   "source": [
    "%%sql\n",
    "INSERT INTO employees VALUES (1, 'John', 'Doe', 30, 'Engineering');"
   ]
  },
  {
   "cell_type": "markdown",
   "metadata": {},
   "source": [
    "- **Explanation**:\n",
    "  - The values are assigned to columns from left to right.\n",
    "  - The order of values should be the same as the order of columns in the table.\n",
    "  - It’s not mandatory to provide a value for every column in the table, unless they are explicitly set as non-nullable.\n",
    "\n",
    "To see the changes:\n"
   ]
  },
  {
   "cell_type": "code",
   "execution_count": null,
   "metadata": {
    "vscode": {
     "languageId": "sql"
    }
   },
   "outputs": [],
   "source": [
    "%%sql\n",
    "SELECT * FROM employees;"
   ]
  },
  {
   "cell_type": "markdown",
   "metadata": {},
   "source": [
    "### Insert by Column Name\n",
    "To insert a row by specifying column names and corresponding values:\n"
   ]
  },
  {
   "cell_type": "code",
   "execution_count": null,
   "metadata": {
    "vscode": {
     "languageId": "sql"
    }
   },
   "outputs": [],
   "source": [
    "%%sql\n",
    "INSERT INTO employees (first_name, last_name, age, department) \n",
    "VALUES ('Jane', 'Smith', 25, 'Marketing');"
   ]
  },
  {
   "cell_type": "markdown",
   "metadata": {},
   "source": [
    "- **Explanation**:\n",
    "  - This method allows you to specify only the columns you want to insert values into.\n",
    "  - The order of values should match the order of the specified column names.\n",
    "  - This is useful when you don't want to insert values for all columns, especially if some columns have default values or are nullable.\n",
    "\n",
    "To see the changes:\n"
   ]
  },
  {
   "cell_type": "code",
   "execution_count": null,
   "metadata": {
    "vscode": {
     "languageId": "sql"
    }
   },
   "outputs": [],
   "source": [
    "%%sql\n",
    "SELECT * FROM employees;"
   ]
  },
  {
   "cell_type": "markdown",
   "metadata": {},
   "source": [
    "Let’s also try to insert a row with only first_name and last_name. The rest of the columns will be filled by default"
   ]
  },
  {
   "cell_type": "code",
   "execution_count": null,
   "metadata": {
    "vscode": {
     "languageId": "sql"
    }
   },
   "outputs": [],
   "source": [
    "%%sql\n",
    "INSERT INTO employees (first_name, last_name) \n",
    "VALUES ('Quan', 'Nguyen');"
   ]
  },
  {
   "cell_type": "code",
   "execution_count": null,
   "metadata": {
    "vscode": {
     "languageId": "sql"
    }
   },
   "outputs": [],
   "source": [
    "%%sql\n",
    "SELECT * FROM employees;"
   ]
  },
  {
   "cell_type": "markdown",
   "metadata": {},
   "source": [
    "### Insert Multiple Rows at Once\n",
    "To insert multiple rows in a single statement:\n"
   ]
  },
  {
   "cell_type": "code",
   "execution_count": null,
   "metadata": {
    "vscode": {
     "languageId": "sql"
    }
   },
   "outputs": [],
   "source": [
    "%%sql\n",
    "INSERT INTO employees (first_name, last_name, age, department)\n",
    "VALUES \n",
    "    ('Alice', 'Johnson', 28, 'Sales'),\n",
    "    ('Bob', 'Brown', 35, 'HR'),\n",
    "    ('Charlie', 'Davis', 40, 'Finance');"
   ]
  },
  {
   "cell_type": "markdown",
   "metadata": {},
   "source": [
    "- **Explanation**:\n",
    "  - This method allows you to insert multiple rows in a single `INSERT` statement.\n",
    "  - Each set of values should match the order of the specified column names.\n",
    "  - This is more efficient than inserting rows one by one.\n",
    "\n",
    "To see the changes:\n"
   ]
  },
  {
   "cell_type": "code",
   "execution_count": null,
   "metadata": {
    "vscode": {
     "languageId": "sql"
    }
   },
   "outputs": [],
   "source": [
    "%%sql\n",
    "SELECT * FROM employees;"
   ]
  },
  {
   "cell_type": "markdown",
   "metadata": {},
   "source": [
    "### Insert from Another Table\n",
    "To insert rows from another table:\n"
   ]
  },
  {
   "cell_type": "markdown",
   "metadata": {},
   "source": [
    "\n",
    "#### Creating `another_table` \n"
   ]
  },
  {
   "cell_type": "code",
   "execution_count": null,
   "metadata": {
    "vscode": {
     "languageId": "sql"
    }
   },
   "outputs": [],
   "source": [
    "%%sql\n",
    "CREATE TABLE another_table (\n",
    "    id SERIAL PRIMARY KEY,\n",
    "    first_name VARCHAR(50),\n",
    "    last_name VARCHAR(50),\n",
    "    age INT,\n",
    "    department VARCHAR(50)\n",
    ");"
   ]
  },
  {
   "cell_type": "markdown",
   "metadata": {},
   "source": [
    "\n",
    "\n",
    "#### Insert Sample Data into `another_table`\n"
   ]
  },
  {
   "cell_type": "code",
   "execution_count": null,
   "metadata": {
    "vscode": {
     "languageId": "sql"
    }
   },
   "outputs": [],
   "source": [
    "%%sql\n",
    "INSERT INTO another_table (first_name, last_name, age, department)\n",
    "VALUES \n",
    "    ('Emily', 'Clark', 29, 'Engineering'),\n",
    "    ('Michael', 'Scott', 45, 'Engineering'),\n",
    "    ('Pam', 'Beesly', 30, 'Sales');"
   ]
  },
  {
   "cell_type": "code",
   "execution_count": null,
   "metadata": {
    "vscode": {
     "languageId": "sql"
    }
   },
   "outputs": [],
   "source": [
    "%%sql\n",
    "SELECT * FROM another_table;"
   ]
  },
  {
   "cell_type": "markdown",
   "metadata": {},
   "source": [
    "#### Insert from `another_table` to `employees`\n"
   ]
  },
  {
   "cell_type": "code",
   "execution_count": null,
   "metadata": {
    "vscode": {
     "languageId": "sql"
    }
   },
   "outputs": [],
   "source": [
    "%%sql\n",
    "INSERT INTO employees (first_name, last_name, age, department)\n",
    "SELECT first_name, last_name, age, department\n",
    "FROM another_table\n",
    "WHERE department = 'Engineering';"
   ]
  },
  {
   "cell_type": "markdown",
   "metadata": {},
   "source": [
    "- **Explanation**:\n",
    "  - This method allows you to insert rows into a table by selecting data from another table.\n",
    "  - The `SELECT` statement should return the same number of columns and compatible data types as the `INSERT` statement.\n",
    "  - This is useful for copying data from one table to another based on certain conditions.\n",
    "\n",
    "To see the changes:\n"
   ]
  },
  {
   "cell_type": "code",
   "execution_count": null,
   "metadata": {
    "vscode": {
     "languageId": "sql"
    }
   },
   "outputs": [],
   "source": [
    "%%sql\n",
    "SELECT * FROM employees;"
   ]
  },
  {
   "cell_type": "markdown",
   "metadata": {},
   "source": [
    "## Modifying Rows\n",
    "To update existing rows in a table:\n"
   ]
  },
  {
   "cell_type": "code",
   "execution_count": null,
   "metadata": {
    "vscode": {
     "languageId": "sql"
    }
   },
   "outputs": [],
   "source": [
    "%%sql\n",
    "UPDATE employees\n",
    "SET age = 31\n",
    "WHERE first_name = 'John' AND last_name = 'Doe';"
   ]
  },
  {
   "cell_type": "markdown",
   "metadata": {},
   "source": [
    "- **Explanation**:\n",
    "  - The `UPDATE` statement modifies existing rows in the table.\n",
    "  - The `SET` clause specifies the columns to be updated and their new values.\n",
    "  - The `WHERE` clause specifies which rows should be updated. Without a `WHERE` clause, all rows in the table will be updated.\n",
    "\n",
    "To see the changes:\n"
   ]
  },
  {
   "cell_type": "code",
   "execution_count": null,
   "metadata": {
    "vscode": {
     "languageId": "sql"
    }
   },
   "outputs": [],
   "source": [
    "%%sql\n",
    "SELECT * FROM employees;"
   ]
  },
  {
   "cell_type": "markdown",
   "metadata": {},
   "source": [
    "```{warning}\n",
    "### Why `UPDATE` Can Be Dangerous\n",
    "The `UPDATE` statement is used to modify existing rows in a table. However, it can be dangerous because:\n",
    "\n",
    "- **Accidental Modifications**: If the WHERE clause is incorrect or missing, you might accidentally update all rows in the table.\n",
    "- **Unintended Changes**: A wrong search condition can lead to unintended modifications, affecting more rows than intended.\n",
    "\n",
    "Best Practices for Using UPDATE\n",
    "- Use a `SELECT` Statement First:\n",
    "- Before running an `UPDATE` statement, use a `SELECT` statement with the same `WHERE` clause to ensure that the rows returned are the ones you intend to update.\n",
    "\n",
    "**Create a Temporary Table**:\n",
    "\n",
    "Another method is to create a temporary table to test your `UPDATE` statement. This allows you to verify the changes without affecting the actual data.\n",
    "\n",
    "```sql\n",
    "-- Example: Create a temporary table\n",
    "CREATE TEMP TABLE temp_employees AS\n",
    "SELECT * FROM employees;\n",
    "\n",
    "-- Test the UPDATE statement on the temporary table\n",
    "UPDATE temp_employees\n",
    "SET age = age + 1\n",
    "WHERE department = 'HR';\n",
    "\n",
    "-- Verify the changes\n",
    "SELECT * FROM temp_employees WHERE department = 'HR';\n",
    "\n",
    "```"
   ]
  },
  {
   "cell_type": "markdown",
   "metadata": {},
   "source": [
    "## Deleting Rows\n",
    "To delete rows from a table:\n"
   ]
  },
  {
   "cell_type": "code",
   "execution_count": null,
   "metadata": {
    "vscode": {
     "languageId": "sql"
    }
   },
   "outputs": [],
   "source": [
    "%%sql\n",
    "DELETE FROM employees\n",
    "WHERE department = 'HR';"
   ]
  },
  {
   "cell_type": "markdown",
   "metadata": {},
   "source": [
    "- **Explanation**:\n",
    "  - The `DELETE` statement removes rows from the table.\n",
    "  - The `WHERE` clause specifies which rows should be deleted. Without a `WHERE` clause, all rows in the table will be deleted.\n",
    "  - Use the `DELETE` statement with caution, especially without a `WHERE` clause, to avoid accidentally removing all data from the table.\n",
    "\n",
    "To see the changes:\n"
   ]
  },
  {
   "cell_type": "code",
   "execution_count": null,
   "metadata": {
    "vscode": {
     "languageId": "sql"
    }
   },
   "outputs": [],
   "source": [
    "%%sql\n",
    "SELECT * FROM employees;"
   ]
  },
  {
   "cell_type": "markdown",
   "metadata": {},
   "source": [
    "## Truncating a Table\n",
    "To remove all rows from a table quickly:\n"
   ]
  },
  {
   "cell_type": "code",
   "execution_count": null,
   "metadata": {
    "vscode": {
     "languageId": "sql"
    }
   },
   "outputs": [],
   "source": [
    "%%sql\n",
    "TRUNCATE TABLE another_table;"
   ]
  },
  {
   "cell_type": "markdown",
   "metadata": {},
   "source": [
    "- **Explanation**:\n",
    "  - The `TRUNCATE` statement removes all rows from a table, similar to the `DELETE` statement without a `WHERE` clause.\n",
    "  - It is faster than `DELETE` because it does not generate individual row delete operations.\n",
    "  - It resets any auto-increment counters on the table.\n",
    "\n",
    "To see the changes:\n"
   ]
  },
  {
   "cell_type": "code",
   "execution_count": null,
   "metadata": {
    "vscode": {
     "languageId": "sql"
    }
   },
   "outputs": [],
   "source": [
    "%%sql\n",
    "SELECT * FROM another_table;"
   ]
  },
  {
   "cell_type": "markdown",
   "metadata": {},
   "source": [
    "## Returning Data from Insert, Update, Delete\n",
    "The table modifying commands `INSERT`, `UPDATE`, and `DELETE` all accept a `RETURNING` clause which returns the rows that have been modified by these commands. The returning clause can be helpful in reliably identifying the rows that have been modified, without having to run a separate `SELECT` statement after table modification. "
   ]
  },
  {
   "cell_type": "code",
   "execution_count": null,
   "metadata": {
    "vscode": {
     "languageId": "sql"
    }
   },
   "outputs": [],
   "source": [
    "%%sql\n",
    "INSERT INTO employees (first_name, last_name, age, department)\n",
    "VALUES ('David', 'Miller', 32, 'IT')\n",
    "RETURNING *;"
   ]
  },
  {
   "cell_type": "markdown",
   "metadata": {},
   "source": [
    "\n",
    "\n",
    "To see the changes:\n"
   ]
  },
  {
   "cell_type": "code",
   "execution_count": null,
   "metadata": {
    "vscode": {
     "languageId": "sql"
    }
   },
   "outputs": [],
   "source": [
    "%%sql\n",
    "SELECT * FROM employees;"
   ]
  },
  {
   "cell_type": "markdown",
   "metadata": {},
   "source": [
    "- **Explanation**:\n",
    "  - The `RETURNING` clause allows you to return values from the rows that were modified by the `INSERT`, `UPDATE`, or `DELETE` statement.\n",
    "  - This is useful for retrieving the values of auto-increment columns or other computed values.\n"
   ]
  },
  {
   "cell_type": "code",
   "execution_count": null,
   "metadata": {
    "vscode": {
     "languageId": "sql"
    }
   },
   "outputs": [],
   "source": [
    "%%sql\n",
    "UPDATE employees\n",
    "SET age = 33\n",
    "WHERE first_name = 'David' AND last_name = 'Miller'\n",
    "RETURNING *;"
   ]
  },
  {
   "cell_type": "markdown",
   "metadata": {},
   "source": [
    "\n",
    "\n",
    "To see the changes:\n"
   ]
  },
  {
   "cell_type": "code",
   "execution_count": null,
   "metadata": {
    "vscode": {
     "languageId": "sql"
    }
   },
   "outputs": [],
   "source": [
    "%%sql\n",
    "SELECT * FROM employees;"
   ]
  },
  {
   "cell_type": "code",
   "execution_count": null,
   "metadata": {
    "vscode": {
     "languageId": "sql"
    }
   },
   "outputs": [],
   "source": [
    "%%sql\n",
    "DELETE FROM employees\n",
    "WHERE first_name = 'David' AND last_name = 'Miller'\n",
    "RETURNING *;"
   ]
  },
  {
   "cell_type": "markdown",
   "metadata": {},
   "source": [
    "\n",
    "\n",
    "To see the changes:\n"
   ]
  },
  {
   "cell_type": "code",
   "execution_count": null,
   "metadata": {
    "vscode": {
     "languageId": "sql"
    }
   },
   "outputs": [],
   "source": [
    "%%sql\n",
    "SELECT * FROM employees;"
   ]
  }
 ],
 "metadata": {
  "kernelspec": {
   "display_name": "adsc_3610",
   "language": "python",
   "name": "python3"
  },
  "language_info": {
   "codemirror_mode": {
    "name": "ipython",
    "version": 3
   },
   "file_extension": ".py",
   "mimetype": "text/x-python",
   "name": "python",
   "nbconvert_exporter": "python",
   "pygments_lexer": "ipython3",
   "version": "3.11.9"
  }
 },
 "nbformat": 4,
 "nbformat_minor": 2
}
